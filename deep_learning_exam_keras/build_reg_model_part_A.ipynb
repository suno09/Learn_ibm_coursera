{
 "cells": [
  {
   "cell_type": "markdown",
   "metadata": {},
   "source": [
    "# Build a Regression Model in Keras for Predicting Strength __- PART A -__"
   ]
  },
  {
   "cell_type": "markdown",
   "metadata": {},
   "source": [
    "#### Import libraries"
   ]
  },
  {
   "cell_type": "code",
   "execution_count": 110,
   "metadata": {},
   "outputs": [],
   "source": [
    "import pandas as pd\n",
    "import numpy as np"
   ]
  },
  {
   "cell_type": "markdown",
   "metadata": {},
   "source": [
    "#### Read data"
   ]
  },
  {
   "cell_type": "code",
   "execution_count": 111,
   "metadata": {},
   "outputs": [
    {
     "data": {
      "text/html": [
       "<div>\n",
       "<style scoped>\n",
       "    .dataframe tbody tr th:only-of-type {\n",
       "        vertical-align: middle;\n",
       "    }\n",
       "\n",
       "    .dataframe tbody tr th {\n",
       "        vertical-align: top;\n",
       "    }\n",
       "\n",
       "    .dataframe thead th {\n",
       "        text-align: right;\n",
       "    }\n",
       "</style>\n",
       "<table border=\"1\" class=\"dataframe\">\n",
       "  <thead>\n",
       "    <tr style=\"text-align: right;\">\n",
       "      <th></th>\n",
       "      <th>Cement</th>\n",
       "      <th>Blast Furnace Slag</th>\n",
       "      <th>Fly Ash</th>\n",
       "      <th>Water</th>\n",
       "      <th>Superplasticizer</th>\n",
       "      <th>Coarse Aggregate</th>\n",
       "      <th>Fine Aggregate</th>\n",
       "      <th>Age</th>\n",
       "      <th>Strength</th>\n",
       "    </tr>\n",
       "  </thead>\n",
       "  <tbody>\n",
       "    <tr>\n",
       "      <th>0</th>\n",
       "      <td>540.0</td>\n",
       "      <td>0.0</td>\n",
       "      <td>0.0</td>\n",
       "      <td>162.0</td>\n",
       "      <td>2.5</td>\n",
       "      <td>1040.0</td>\n",
       "      <td>676.0</td>\n",
       "      <td>28</td>\n",
       "      <td>79.99</td>\n",
       "    </tr>\n",
       "    <tr>\n",
       "      <th>1</th>\n",
       "      <td>540.0</td>\n",
       "      <td>0.0</td>\n",
       "      <td>0.0</td>\n",
       "      <td>162.0</td>\n",
       "      <td>2.5</td>\n",
       "      <td>1055.0</td>\n",
       "      <td>676.0</td>\n",
       "      <td>28</td>\n",
       "      <td>61.89</td>\n",
       "    </tr>\n",
       "    <tr>\n",
       "      <th>2</th>\n",
       "      <td>332.5</td>\n",
       "      <td>142.5</td>\n",
       "      <td>0.0</td>\n",
       "      <td>228.0</td>\n",
       "      <td>0.0</td>\n",
       "      <td>932.0</td>\n",
       "      <td>594.0</td>\n",
       "      <td>270</td>\n",
       "      <td>40.27</td>\n",
       "    </tr>\n",
       "    <tr>\n",
       "      <th>3</th>\n",
       "      <td>332.5</td>\n",
       "      <td>142.5</td>\n",
       "      <td>0.0</td>\n",
       "      <td>228.0</td>\n",
       "      <td>0.0</td>\n",
       "      <td>932.0</td>\n",
       "      <td>594.0</td>\n",
       "      <td>365</td>\n",
       "      <td>41.05</td>\n",
       "    </tr>\n",
       "    <tr>\n",
       "      <th>4</th>\n",
       "      <td>198.6</td>\n",
       "      <td>132.4</td>\n",
       "      <td>0.0</td>\n",
       "      <td>192.0</td>\n",
       "      <td>0.0</td>\n",
       "      <td>978.4</td>\n",
       "      <td>825.5</td>\n",
       "      <td>360</td>\n",
       "      <td>44.30</td>\n",
       "    </tr>\n",
       "  </tbody>\n",
       "</table>\n",
       "</div>"
      ],
      "text/plain": [
       "   Cement  Blast Furnace Slag  Fly Ash  Water  Superplasticizer  \\\n",
       "0   540.0                 0.0      0.0  162.0               2.5   \n",
       "1   540.0                 0.0      0.0  162.0               2.5   \n",
       "2   332.5               142.5      0.0  228.0               0.0   \n",
       "3   332.5               142.5      0.0  228.0               0.0   \n",
       "4   198.6               132.4      0.0  192.0               0.0   \n",
       "\n",
       "   Coarse Aggregate  Fine Aggregate  Age  Strength  \n",
       "0            1040.0           676.0   28     79.99  \n",
       "1            1055.0           676.0   28     61.89  \n",
       "2             932.0           594.0  270     40.27  \n",
       "3             932.0           594.0  365     41.05  \n",
       "4             978.4           825.5  360     44.30  "
      ]
     },
     "execution_count": 111,
     "metadata": {},
     "output_type": "execute_result"
    }
   ],
   "source": [
    "df = pd.read_csv('concrete_data.csv')\n",
    "df.head()"
   ]
  },
  {
   "cell_type": "code",
   "execution_count": 112,
   "metadata": {},
   "outputs": [
    {
     "data": {
      "text/plain": [
       "(1030, 9)"
      ]
     },
     "execution_count": 112,
     "metadata": {},
     "output_type": "execute_result"
    }
   ],
   "source": [
    "df.shape"
   ]
  },
  {
   "cell_type": "markdown",
   "metadata": {},
   "source": [
    "#### Check null values if exist"
   ]
  },
  {
   "cell_type": "code",
   "execution_count": 113,
   "metadata": {},
   "outputs": [
    {
     "data": {
      "text/plain": [
       "Cement                False\n",
       "Blast Furnace Slag    False\n",
       "Fly Ash               False\n",
       "Water                 False\n",
       "Superplasticizer      False\n",
       "Coarse Aggregate      False\n",
       "Fine Aggregate        False\n",
       "Age                   False\n",
       "Strength              False\n",
       "dtype: bool"
      ]
     },
     "execution_count": 113,
     "metadata": {},
     "output_type": "execute_result"
    }
   ],
   "source": [
    "df.isnull().any()"
   ]
  },
  {
   "cell_type": "markdown",
   "metadata": {},
   "source": [
    "#### Extract the input and target data"
   ]
  },
  {
   "cell_type": "code",
   "execution_count": 114,
   "metadata": {},
   "outputs": [],
   "source": [
    "X = df.drop(columns=['Strength'], axis=1).values\n",
    "y = df.Strength.values\n",
    "\n",
    "n_cols = X.shape[1]"
   ]
  },
  {
   "cell_type": "markdown",
   "metadata": {},
   "source": [
    "#### split the data into train and test by holding 30% of data for testing"
   ]
  },
  {
   "cell_type": "code",
   "execution_count": 115,
   "metadata": {},
   "outputs": [],
   "source": [
    "from sklearn.model_selection import train_test_split"
   ]
  },
  {
   "cell_type": "code",
   "execution_count": 116,
   "metadata": {},
   "outputs": [],
   "source": [
    "X_train, X_test, y_train, y_test = train_test_split(X, y, test_size=0.30)"
   ]
  },
  {
   "cell_type": "markdown",
   "metadata": {},
   "source": [
    "#### import libraries for creating model"
   ]
  },
  {
   "cell_type": "code",
   "execution_count": 117,
   "metadata": {},
   "outputs": [],
   "source": [
    "import keras\n",
    "from keras.models import Sequential\n",
    "from keras.layers import Dense"
   ]
  },
  {
   "cell_type": "markdown",
   "metadata": {},
   "source": [
    "### Create a neural network model\n",
    "###### One hidden layer of 10 nodes\n",
    "###### Use the adam optimizer and the mean squared error as the loss function"
   ]
  },
  {
   "cell_type": "code",
   "execution_count": 118,
   "metadata": {},
   "outputs": [],
   "source": [
    "## define regression model\n",
    "\n",
    "# create model\n",
    "model = Sequential()\n",
    "model.add(Dense(10, activation='relu', input_shape=(n_cols,)))\n",
    "model.add(Dense(1))\n",
    "\n",
    "# compile model\n",
    "model.compile(optimizer='adam', loss='mean_squared_error')"
   ]
  },
  {
   "cell_type": "markdown",
   "metadata": {},
   "source": [
    "####  Train the model on the training data using 50 epochs"
   ]
  },
  {
   "cell_type": "code",
   "execution_count": 119,
   "metadata": {},
   "outputs": [
    {
     "name": "stdout",
     "output_type": "stream",
     "text": [
      "Epoch 1/50\n",
      "23/23 - 0s - loss: 310157.9688\n",
      "Epoch 2/50\n",
      "23/23 - 0s - loss: 101838.2500\n",
      "Epoch 3/50\n",
      "23/23 - 0s - loss: 24648.6191\n",
      "Epoch 4/50\n",
      "23/23 - 0s - loss: 8577.9629\n",
      "Epoch 5/50\n",
      "23/23 - 0s - loss: 7165.9292\n",
      "Epoch 6/50\n",
      "23/23 - 0s - loss: 6725.0117\n",
      "Epoch 7/50\n",
      "23/23 - 0s - loss: 6239.7363\n",
      "Epoch 8/50\n",
      "23/23 - 0s - loss: 5764.7905\n",
      "Epoch 9/50\n",
      "23/23 - 0s - loss: 5306.8774\n",
      "Epoch 10/50\n",
      "23/23 - 0s - loss: 4864.3223\n",
      "Epoch 11/50\n",
      "23/23 - 0s - loss: 4444.7598\n",
      "Epoch 12/50\n",
      "23/23 - 0s - loss: 4047.7861\n",
      "Epoch 13/50\n",
      "23/23 - 0s - loss: 3674.1970\n",
      "Epoch 14/50\n",
      "23/23 - 0s - loss: 3324.0364\n",
      "Epoch 15/50\n",
      "23/23 - 0s - loss: 3001.4890\n",
      "Epoch 16/50\n",
      "23/23 - 0s - loss: 2706.9819\n",
      "Epoch 17/50\n",
      "23/23 - 0s - loss: 2438.6252\n",
      "Epoch 18/50\n",
      "23/23 - 0s - loss: 2191.1558\n",
      "Epoch 19/50\n",
      "23/23 - 0s - loss: 1973.1517\n",
      "Epoch 20/50\n",
      "23/23 - 0s - loss: 1768.8516\n",
      "Epoch 21/50\n",
      "23/23 - 0s - loss: 1592.7986\n",
      "Epoch 22/50\n",
      "23/23 - 0s - loss: 1434.0334\n",
      "Epoch 23/50\n",
      "23/23 - 0s - loss: 1291.6893\n",
      "Epoch 24/50\n",
      "23/23 - 0s - loss: 1170.0865\n",
      "Epoch 25/50\n",
      "23/23 - 0s - loss: 1062.6616\n",
      "Epoch 26/50\n",
      "23/23 - 0s - loss: 965.3564\n",
      "Epoch 27/50\n",
      "23/23 - 0s - loss: 881.6783\n",
      "Epoch 28/50\n",
      "23/23 - 0s - loss: 808.1498\n",
      "Epoch 29/50\n",
      "23/23 - 0s - loss: 746.1471\n",
      "Epoch 30/50\n",
      "23/23 - 0s - loss: 693.3522\n",
      "Epoch 31/50\n",
      "23/23 - 0s - loss: 644.1562\n",
      "Epoch 32/50\n",
      "23/23 - 0s - loss: 600.2371\n",
      "Epoch 33/50\n",
      "23/23 - 0s - loss: 563.6167\n",
      "Epoch 34/50\n",
      "23/23 - 0s - loss: 531.5328\n",
      "Epoch 35/50\n",
      "23/23 - 0s - loss: 501.2994\n",
      "Epoch 36/50\n",
      "23/23 - 0s - loss: 477.1854\n",
      "Epoch 37/50\n",
      "23/23 - 0s - loss: 452.9200\n",
      "Epoch 38/50\n",
      "23/23 - 0s - loss: 432.2063\n",
      "Epoch 39/50\n",
      "23/23 - 0s - loss: 413.6365\n",
      "Epoch 40/50\n",
      "23/23 - 0s - loss: 396.4697\n",
      "Epoch 41/50\n",
      "23/23 - 0s - loss: 381.4876\n",
      "Epoch 42/50\n",
      "23/23 - 0s - loss: 369.8478\n",
      "Epoch 43/50\n",
      "23/23 - 0s - loss: 351.5081\n",
      "Epoch 44/50\n",
      "23/23 - 0s - loss: 339.1804\n",
      "Epoch 45/50\n",
      "23/23 - 0s - loss: 328.0819\n",
      "Epoch 46/50\n",
      "23/23 - 0s - loss: 314.8304\n",
      "Epoch 47/50\n",
      "23/23 - 0s - loss: 304.1144\n",
      "Epoch 48/50\n",
      "23/23 - 0s - loss: 293.6726\n",
      "Epoch 49/50\n",
      "23/23 - 0s - loss: 283.7418\n",
      "Epoch 50/50\n",
      "23/23 - 0s - loss: 274.8410\n"
     ]
    },
    {
     "data": {
      "text/plain": [
       "<tensorflow.python.keras.callbacks.History at 0x19260fe7fd0>"
      ]
     },
     "execution_count": 119,
     "metadata": {},
     "output_type": "execute_result"
    }
   ],
   "source": [
    "model.fit(X_train, y_train, epochs=50, verbose=2)"
   ]
  },
  {
   "cell_type": "markdown",
   "metadata": {},
   "source": [
    "#### Evaluate the model on the test data "
   ]
  },
  {
   "cell_type": "code",
   "execution_count": 120,
   "metadata": {},
   "outputs": [],
   "source": [
    "from sklearn.metrics import mean_squared_error"
   ]
  },
  {
   "cell_type": "code",
   "execution_count": 121,
   "metadata": {},
   "outputs": [],
   "source": [
    "# predict test data\n",
    "y_pred = model.predict(X_test)"
   ]
  },
  {
   "cell_type": "code",
   "execution_count": 122,
   "metadata": {},
   "outputs": [
    {
     "data": {
      "text/plain": [
       "283.29017433015247"
      ]
     },
     "execution_count": 122,
     "metadata": {},
     "output_type": "execute_result"
    }
   ],
   "source": [
    "# mean squared error of the test data\n",
    "mean_squared_error(y_test, y_pred)"
   ]
  },
  {
   "cell_type": "markdown",
   "metadata": {},
   "source": [
    "#### create a list of 50 mean squared errors"
   ]
  },
  {
   "cell_type": "code",
   "execution_count": 123,
   "metadata": {},
   "outputs": [
    {
     "name": "stdout",
     "output_type": "stream",
     "text": [
      "Step 1\n",
      "Step 2\n",
      "Step 3\n",
      "Step 4\n",
      "Step 5\n",
      "Step 6\n",
      "Step 7\n",
      "Step 8\n",
      "Step 9\n",
      "Step 10\n",
      "Step 11\n",
      "Step 12\n",
      "Step 13\n",
      "Step 14\n",
      "Step 15\n",
      "Step 16\n",
      "Step 17\n",
      "Step 18\n",
      "Step 19\n",
      "Step 20\n",
      "Step 21\n",
      "Step 22\n",
      "Step 23\n",
      "Step 24\n",
      "Step 25\n",
      "Step 26\n",
      "Step 27\n",
      "Step 28\n",
      "Step 29\n",
      "Step 30\n",
      "Step 31\n",
      "Step 32\n",
      "Step 33\n",
      "Step 34\n",
      "Step 35\n",
      "Step 36\n",
      "Step 37\n",
      "Step 38\n",
      "Step 39\n",
      "Step 40\n",
      "Step 41\n",
      "Step 42\n",
      "Step 43\n",
      "Step 44\n",
      "Step 45\n",
      "Step 46\n",
      "Step 47\n",
      "Step 48\n",
      "Step 49\n",
      "Step 50\n"
     ]
    }
   ],
   "source": [
    "means = []\n",
    "for i in range(50):\n",
    "    print('Step %d' % (i + 1))\n",
    "    X_train, X_test, y_train, y_test = train_test_split(X, y, test_size=0.30)\n",
    "    model.fit(X_train, y_train, epochs=50, verbose=0)\n",
    "    y_pred = model.predict(X_test)\n",
    "    means.append(mean_squared_error(y_test, y_pred))"
   ]
  },
  {
   "cell_type": "markdown",
   "metadata": {},
   "source": [
    "#### Report the mean and the standard deviation of the mean squared errors."
   ]
  },
  {
   "cell_type": "code",
   "execution_count": 124,
   "metadata": {},
   "outputs": [
    {
     "name": "stdout",
     "output_type": "stream",
     "text": [
      "The mean of mean squared errors : 76.576184\n",
      "The standard deviation of mean squared errors : 30.192109\n"
     ]
    }
   ],
   "source": [
    "print('The mean of mean squared errors : %f' % np.mean(means))\n",
    "print('The standard deviation of mean squared errors : %f' % np.std(means))"
   ]
  },
  {
   "cell_type": "code",
   "execution_count": null,
   "metadata": {},
   "outputs": [],
   "source": []
  }
 ],
 "metadata": {
  "kernelspec": {
   "display_name": "Python 3",
   "language": "python",
   "name": "python3"
  },
  "language_info": {
   "codemirror_mode": {
    "name": "ipython",
    "version": 3
   },
   "file_extension": ".py",
   "mimetype": "text/x-python",
   "name": "python",
   "nbconvert_exporter": "python",
   "pygments_lexer": "ipython3",
   "version": "3.6.5"
  }
 },
 "nbformat": 4,
 "nbformat_minor": 4
}
