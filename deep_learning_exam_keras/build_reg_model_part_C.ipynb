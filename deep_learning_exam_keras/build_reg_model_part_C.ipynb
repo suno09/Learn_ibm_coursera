{
 "cells": [
  {
   "cell_type": "markdown",
   "metadata": {},
   "source": [
    "# Build a Regression Model in Keras for Predicting Strength __- PART C -__"
   ]
  },
  {
   "cell_type": "markdown",
   "metadata": {},
   "source": [
    "#### Import libraries"
   ]
  },
  {
   "cell_type": "code",
   "execution_count": 18,
   "metadata": {},
   "outputs": [],
   "source": [
    "import pandas as pd\n",
    "import numpy as np"
   ]
  },
  {
   "cell_type": "markdown",
   "metadata": {},
   "source": [
    "#### Read data"
   ]
  },
  {
   "cell_type": "code",
   "execution_count": 19,
   "metadata": {},
   "outputs": [
    {
     "data": {
      "text/html": [
       "<div>\n",
       "<style scoped>\n",
       "    .dataframe tbody tr th:only-of-type {\n",
       "        vertical-align: middle;\n",
       "    }\n",
       "\n",
       "    .dataframe tbody tr th {\n",
       "        vertical-align: top;\n",
       "    }\n",
       "\n",
       "    .dataframe thead th {\n",
       "        text-align: right;\n",
       "    }\n",
       "</style>\n",
       "<table border=\"1\" class=\"dataframe\">\n",
       "  <thead>\n",
       "    <tr style=\"text-align: right;\">\n",
       "      <th></th>\n",
       "      <th>Cement</th>\n",
       "      <th>Blast Furnace Slag</th>\n",
       "      <th>Fly Ash</th>\n",
       "      <th>Water</th>\n",
       "      <th>Superplasticizer</th>\n",
       "      <th>Coarse Aggregate</th>\n",
       "      <th>Fine Aggregate</th>\n",
       "      <th>Age</th>\n",
       "      <th>Strength</th>\n",
       "    </tr>\n",
       "  </thead>\n",
       "  <tbody>\n",
       "    <tr>\n",
       "      <th>0</th>\n",
       "      <td>540.0</td>\n",
       "      <td>0.0</td>\n",
       "      <td>0.0</td>\n",
       "      <td>162.0</td>\n",
       "      <td>2.5</td>\n",
       "      <td>1040.0</td>\n",
       "      <td>676.0</td>\n",
       "      <td>28</td>\n",
       "      <td>79.99</td>\n",
       "    </tr>\n",
       "    <tr>\n",
       "      <th>1</th>\n",
       "      <td>540.0</td>\n",
       "      <td>0.0</td>\n",
       "      <td>0.0</td>\n",
       "      <td>162.0</td>\n",
       "      <td>2.5</td>\n",
       "      <td>1055.0</td>\n",
       "      <td>676.0</td>\n",
       "      <td>28</td>\n",
       "      <td>61.89</td>\n",
       "    </tr>\n",
       "    <tr>\n",
       "      <th>2</th>\n",
       "      <td>332.5</td>\n",
       "      <td>142.5</td>\n",
       "      <td>0.0</td>\n",
       "      <td>228.0</td>\n",
       "      <td>0.0</td>\n",
       "      <td>932.0</td>\n",
       "      <td>594.0</td>\n",
       "      <td>270</td>\n",
       "      <td>40.27</td>\n",
       "    </tr>\n",
       "    <tr>\n",
       "      <th>3</th>\n",
       "      <td>332.5</td>\n",
       "      <td>142.5</td>\n",
       "      <td>0.0</td>\n",
       "      <td>228.0</td>\n",
       "      <td>0.0</td>\n",
       "      <td>932.0</td>\n",
       "      <td>594.0</td>\n",
       "      <td>365</td>\n",
       "      <td>41.05</td>\n",
       "    </tr>\n",
       "    <tr>\n",
       "      <th>4</th>\n",
       "      <td>198.6</td>\n",
       "      <td>132.4</td>\n",
       "      <td>0.0</td>\n",
       "      <td>192.0</td>\n",
       "      <td>0.0</td>\n",
       "      <td>978.4</td>\n",
       "      <td>825.5</td>\n",
       "      <td>360</td>\n",
       "      <td>44.30</td>\n",
       "    </tr>\n",
       "  </tbody>\n",
       "</table>\n",
       "</div>"
      ],
      "text/plain": [
       "   Cement  Blast Furnace Slag  Fly Ash  Water  Superplasticizer  \\\n",
       "0   540.0                 0.0      0.0  162.0               2.5   \n",
       "1   540.0                 0.0      0.0  162.0               2.5   \n",
       "2   332.5               142.5      0.0  228.0               0.0   \n",
       "3   332.5               142.5      0.0  228.0               0.0   \n",
       "4   198.6               132.4      0.0  192.0               0.0   \n",
       "\n",
       "   Coarse Aggregate  Fine Aggregate  Age  Strength  \n",
       "0            1040.0           676.0   28     79.99  \n",
       "1            1055.0           676.0   28     61.89  \n",
       "2             932.0           594.0  270     40.27  \n",
       "3             932.0           594.0  365     41.05  \n",
       "4             978.4           825.5  360     44.30  "
      ]
     },
     "execution_count": 19,
     "metadata": {},
     "output_type": "execute_result"
    }
   ],
   "source": [
    "df = pd.read_csv('concrete_data.csv')\n",
    "df.head()"
   ]
  },
  {
   "cell_type": "code",
   "execution_count": 20,
   "metadata": {},
   "outputs": [
    {
     "data": {
      "text/plain": [
       "(1030, 9)"
      ]
     },
     "execution_count": 20,
     "metadata": {},
     "output_type": "execute_result"
    }
   ],
   "source": [
    "df.shape"
   ]
  },
  {
   "cell_type": "markdown",
   "metadata": {},
   "source": [
    "#### Check null values if exist"
   ]
  },
  {
   "cell_type": "code",
   "execution_count": 21,
   "metadata": {},
   "outputs": [
    {
     "data": {
      "text/plain": [
       "Cement                False\n",
       "Blast Furnace Slag    False\n",
       "Fly Ash               False\n",
       "Water                 False\n",
       "Superplasticizer      False\n",
       "Coarse Aggregate      False\n",
       "Fine Aggregate        False\n",
       "Age                   False\n",
       "Strength              False\n",
       "dtype: bool"
      ]
     },
     "execution_count": 21,
     "metadata": {},
     "output_type": "execute_result"
    }
   ],
   "source": [
    "df.isnull().any()"
   ]
  },
  {
   "cell_type": "markdown",
   "metadata": {},
   "source": [
    "#### Extract the input and target data"
   ]
  },
  {
   "cell_type": "code",
   "execution_count": 22,
   "metadata": {},
   "outputs": [],
   "source": [
    "X = df.drop(columns=['Strength'], axis=1).values\n",
    "y = df.Strength.values\n",
    "\n",
    "n_cols = X.shape[1]"
   ]
  },
  {
   "cell_type": "markdown",
   "metadata": {},
   "source": [
    "#### Normalize the data"
   ]
  },
  {
   "cell_type": "code",
   "execution_count": 23,
   "metadata": {},
   "outputs": [
    {
     "data": {
      "text/plain": [
       "array([[ 0.68491213, -0.84750875, -0.84750875, ...,  2.10382035,\n",
       "         1.07085517, -0.76804989],\n",
       "       [ 0.68491213, -0.84750875, -0.84750875, ...,  2.1463876 ,\n",
       "         1.07085517, -0.76804989],\n",
       "       [ 0.09606522, -0.44311991, -0.84750875, ...,  1.79733617,\n",
       "         0.83815422, -0.08129831],\n",
       "       ...,\n",
       "       [-0.42609301, -0.45191714, -0.53932188, ...,  1.68495864,\n",
       "         1.36598808, -0.76804989],\n",
       "       [-0.39601215, -0.31768842, -0.84750875, ...,  1.9607944 ,\n",
       "         1.39124464, -0.76804989],\n",
       "       [-0.10712244, -0.5623082 , -0.62530772, ...,  1.60578356,\n",
       "         1.31348847, -0.76804989]])"
      ]
     },
     "execution_count": 23,
     "metadata": {},
     "output_type": "execute_result"
    }
   ],
   "source": [
    "X_norm = (X - X.mean()) / X.std()\n",
    "X_norm"
   ]
  },
  {
   "cell_type": "markdown",
   "metadata": {},
   "source": [
    "#### split the data into train and test by holding 30% of data for testing"
   ]
  },
  {
   "cell_type": "code",
   "execution_count": 24,
   "metadata": {},
   "outputs": [],
   "source": [
    "from sklearn.model_selection import train_test_split"
   ]
  },
  {
   "cell_type": "code",
   "execution_count": 25,
   "metadata": {},
   "outputs": [],
   "source": [
    "X_train, X_test, y_train, y_test = train_test_split(X_norm, y, test_size=0.30)"
   ]
  },
  {
   "cell_type": "markdown",
   "metadata": {},
   "source": [
    "#### import libraries for creating model"
   ]
  },
  {
   "cell_type": "code",
   "execution_count": 26,
   "metadata": {},
   "outputs": [],
   "source": [
    "import keras\n",
    "from keras.models import Sequential\n",
    "from keras.layers import Dense"
   ]
  },
  {
   "cell_type": "markdown",
   "metadata": {},
   "source": [
    "### Create a neural network model\n",
    "###### One hidden layer of 10 nodes\n",
    "###### Use the adam optimizer and the mean squared error as the loss function"
   ]
  },
  {
   "cell_type": "code",
   "execution_count": 27,
   "metadata": {},
   "outputs": [],
   "source": [
    "## define regression model\n",
    "\n",
    "# create model\n",
    "model = Sequential()\n",
    "model.add(Dense(10, activation='relu', input_shape=(n_cols,)))\n",
    "model.add(Dense(1))\n",
    "\n",
    "# compile model\n",
    "model.compile(optimizer='adam', loss='mean_squared_error')"
   ]
  },
  {
   "cell_type": "markdown",
   "metadata": {},
   "source": [
    "####  Train the model on the training data using 50 epochs"
   ]
  },
  {
   "cell_type": "code",
   "execution_count": 28,
   "metadata": {},
   "outputs": [
    {
     "name": "stdout",
     "output_type": "stream",
     "text": [
      "Epoch 1/100\n",
      "23/23 - 0s - loss: 1635.0479\n",
      "Epoch 2/100\n",
      "23/23 - 0s - loss: 1587.2391\n",
      "Epoch 3/100\n",
      "23/23 - 0s - loss: 1542.6758\n",
      "Epoch 4/100\n",
      "23/23 - 0s - loss: 1501.1794\n",
      "Epoch 5/100\n",
      "23/23 - 0s - loss: 1461.3934\n",
      "Epoch 6/100\n",
      "23/23 - 0s - loss: 1423.8391\n",
      "Epoch 7/100\n",
      "23/23 - 0s - loss: 1386.2471\n",
      "Epoch 8/100\n",
      "23/23 - 0s - loss: 1346.9379\n",
      "Epoch 9/100\n",
      "23/23 - 0s - loss: 1308.1453\n",
      "Epoch 10/100\n",
      "23/23 - 0s - loss: 1269.7522\n",
      "Epoch 11/100\n",
      "23/23 - 0s - loss: 1230.4940\n",
      "Epoch 12/100\n",
      "23/23 - 0s - loss: 1189.5164\n",
      "Epoch 13/100\n",
      "23/23 - 0s - loss: 1146.6796\n",
      "Epoch 14/100\n",
      "23/23 - 0s - loss: 1102.3818\n",
      "Epoch 15/100\n",
      "23/23 - 0s - loss: 1056.9324\n",
      "Epoch 16/100\n",
      "23/23 - 0s - loss: 1010.5418\n",
      "Epoch 17/100\n",
      "23/23 - 0s - loss: 963.5524\n",
      "Epoch 18/100\n",
      "23/23 - 0s - loss: 917.0526\n",
      "Epoch 19/100\n",
      "23/23 - 0s - loss: 870.6302\n",
      "Epoch 20/100\n",
      "23/23 - 0s - loss: 824.5744\n",
      "Epoch 21/100\n",
      "23/23 - 0s - loss: 779.9092\n",
      "Epoch 22/100\n",
      "23/23 - 0s - loss: 736.4002\n",
      "Epoch 23/100\n",
      "23/23 - 0s - loss: 693.8829\n",
      "Epoch 24/100\n",
      "23/23 - 0s - loss: 653.5604\n",
      "Epoch 25/100\n",
      "23/23 - 0s - loss: 615.2914\n",
      "Epoch 26/100\n",
      "23/23 - 0s - loss: 579.0974\n",
      "Epoch 27/100\n",
      "23/23 - 0s - loss: 544.8823\n",
      "Epoch 28/100\n",
      "23/23 - 0s - loss: 513.1194\n",
      "Epoch 29/100\n",
      "23/23 - 0s - loss: 484.1326\n",
      "Epoch 30/100\n",
      "23/23 - 0s - loss: 457.4177\n",
      "Epoch 31/100\n",
      "23/23 - 0s - loss: 432.7612\n",
      "Epoch 32/100\n",
      "23/23 - 0s - loss: 411.2576\n",
      "Epoch 33/100\n",
      "23/23 - 0s - loss: 391.0406\n",
      "Epoch 34/100\n",
      "23/23 - 0s - loss: 373.7938\n",
      "Epoch 35/100\n",
      "23/23 - 0s - loss: 358.7047\n",
      "Epoch 36/100\n",
      "23/23 - 0s - loss: 344.8091\n",
      "Epoch 37/100\n",
      "23/23 - 0s - loss: 333.2716\n",
      "Epoch 38/100\n",
      "23/23 - 0s - loss: 323.5064\n",
      "Epoch 39/100\n",
      "23/23 - 0s - loss: 314.9327\n",
      "Epoch 40/100\n",
      "23/23 - 0s - loss: 307.8545\n",
      "Epoch 41/100\n",
      "23/23 - 0s - loss: 301.7823\n",
      "Epoch 42/100\n",
      "23/23 - 0s - loss: 296.5000\n",
      "Epoch 43/100\n",
      "23/23 - 0s - loss: 292.3802\n",
      "Epoch 44/100\n",
      "23/23 - 0s - loss: 288.8719\n",
      "Epoch 45/100\n",
      "23/23 - 0s - loss: 285.8728\n",
      "Epoch 46/100\n",
      "23/23 - 0s - loss: 283.4927\n",
      "Epoch 47/100\n",
      "23/23 - 0s - loss: 281.4735\n",
      "Epoch 48/100\n",
      "23/23 - 0s - loss: 279.7072\n",
      "Epoch 49/100\n",
      "23/23 - 0s - loss: 278.3883\n",
      "Epoch 50/100\n",
      "23/23 - 0s - loss: 277.1752\n",
      "Epoch 51/100\n",
      "23/23 - 0s - loss: 276.1988\n",
      "Epoch 52/100\n",
      "23/23 - 0s - loss: 275.3589\n",
      "Epoch 53/100\n",
      "23/23 - 0s - loss: 274.5821\n",
      "Epoch 54/100\n",
      "23/23 - 0s - loss: 273.9389\n",
      "Epoch 55/100\n",
      "23/23 - 0s - loss: 273.2939\n",
      "Epoch 56/100\n",
      "23/23 - 0s - loss: 272.7380\n",
      "Epoch 57/100\n",
      "23/23 - 0s - loss: 272.2376\n",
      "Epoch 58/100\n",
      "23/23 - 0s - loss: 271.7260\n",
      "Epoch 59/100\n",
      "23/23 - 0s - loss: 271.2377\n",
      "Epoch 60/100\n",
      "23/23 - 0s - loss: 270.8731\n",
      "Epoch 61/100\n",
      "23/23 - 0s - loss: 270.3200\n",
      "Epoch 62/100\n",
      "23/23 - 0s - loss: 269.9111\n",
      "Epoch 63/100\n",
      "23/23 - 0s - loss: 269.4567\n",
      "Epoch 64/100\n",
      "23/23 - 0s - loss: 269.1804\n",
      "Epoch 65/100\n",
      "23/23 - 0s - loss: 268.6057\n",
      "Epoch 66/100\n",
      "23/23 - 0s - loss: 268.1896\n",
      "Epoch 67/100\n",
      "23/23 - 0s - loss: 267.8035\n",
      "Epoch 68/100\n",
      "23/23 - 0s - loss: 267.3910\n",
      "Epoch 69/100\n",
      "23/23 - 0s - loss: 266.9958\n",
      "Epoch 70/100\n",
      "23/23 - 0s - loss: 266.6109\n",
      "Epoch 71/100\n",
      "23/23 - 0s - loss: 266.1980\n",
      "Epoch 72/100\n",
      "23/23 - 0s - loss: 265.8308\n",
      "Epoch 73/100\n",
      "23/23 - 0s - loss: 265.4160\n",
      "Epoch 74/100\n",
      "23/23 - 0s - loss: 265.1212\n",
      "Epoch 75/100\n",
      "23/23 - 0s - loss: 264.6589\n",
      "Epoch 76/100\n",
      "23/23 - 0s - loss: 264.2996\n",
      "Epoch 77/100\n",
      "23/23 - 0s - loss: 263.9624\n",
      "Epoch 78/100\n",
      "23/23 - 0s - loss: 263.5448\n",
      "Epoch 79/100\n",
      "23/23 - 0s - loss: 263.1508\n",
      "Epoch 80/100\n",
      "23/23 - 0s - loss: 262.8202\n",
      "Epoch 81/100\n",
      "23/23 - 0s - loss: 262.4131\n",
      "Epoch 82/100\n",
      "23/23 - 0s - loss: 262.0128\n",
      "Epoch 83/100\n",
      "23/23 - 0s - loss: 261.6549\n",
      "Epoch 84/100\n",
      "23/23 - 0s - loss: 261.2974\n",
      "Epoch 85/100\n",
      "23/23 - 0s - loss: 260.9125\n",
      "Epoch 86/100\n",
      "23/23 - 0s - loss: 260.5725\n",
      "Epoch 87/100\n",
      "23/23 - 0s - loss: 260.1886\n",
      "Epoch 88/100\n",
      "23/23 - 0s - loss: 259.8300\n",
      "Epoch 89/100\n",
      "23/23 - 0s - loss: 259.4907\n",
      "Epoch 90/100\n",
      "23/23 - 0s - loss: 259.0927\n",
      "Epoch 91/100\n",
      "23/23 - 0s - loss: 258.7375\n",
      "Epoch 92/100\n",
      "23/23 - 0s - loss: 258.3841\n",
      "Epoch 93/100\n",
      "23/23 - 0s - loss: 258.0295\n",
      "Epoch 94/100\n",
      "23/23 - 0s - loss: 257.6616\n",
      "Epoch 95/100\n",
      "23/23 - 0s - loss: 257.3348\n",
      "Epoch 96/100\n",
      "23/23 - 0s - loss: 256.9548\n",
      "Epoch 97/100\n",
      "23/23 - 0s - loss: 256.6611\n",
      "Epoch 98/100\n",
      "23/23 - 0s - loss: 256.2643\n",
      "Epoch 99/100\n",
      "23/23 - 0s - loss: 255.9193\n",
      "Epoch 100/100\n",
      "23/23 - 0s - loss: 255.5271\n"
     ]
    },
    {
     "data": {
      "text/plain": [
       "<tensorflow.python.keras.callbacks.History at 0x25727dde710>"
      ]
     },
     "execution_count": 28,
     "metadata": {},
     "output_type": "execute_result"
    }
   ],
   "source": [
    "model.fit(X_train, y_train, epochs=100, verbose=2)"
   ]
  },
  {
   "cell_type": "markdown",
   "metadata": {},
   "source": [
    "#### Evaluate the model on the test data "
   ]
  },
  {
   "cell_type": "code",
   "execution_count": 29,
   "metadata": {},
   "outputs": [],
   "source": [
    "from sklearn.metrics import mean_squared_error"
   ]
  },
  {
   "cell_type": "code",
   "execution_count": 30,
   "metadata": {},
   "outputs": [],
   "source": [
    "# predict test data\n",
    "y_pred = model.predict(X_test)"
   ]
  },
  {
   "cell_type": "code",
   "execution_count": 31,
   "metadata": {},
   "outputs": [
    {
     "data": {
      "text/plain": [
       "291.31948806478266"
      ]
     },
     "execution_count": 31,
     "metadata": {},
     "output_type": "execute_result"
    }
   ],
   "source": [
    "# mean squared error of the test data\n",
    "mean_squared_error(y_test, y_pred)"
   ]
  },
  {
   "cell_type": "markdown",
   "metadata": {},
   "source": [
    "#### create a list of 50 mean squared errors"
   ]
  },
  {
   "cell_type": "code",
   "execution_count": 32,
   "metadata": {},
   "outputs": [
    {
     "name": "stdout",
     "output_type": "stream",
     "text": [
      "Step 1\n",
      "Step 2\n",
      "Step 3\n",
      "Step 4\n",
      "Step 5\n",
      "Step 6\n",
      "Step 7\n",
      "Step 8\n",
      "Step 9\n",
      "Step 10\n",
      "Step 11\n",
      "Step 12\n",
      "Step 13\n",
      "Step 14\n",
      "Step 15\n",
      "Step 16\n",
      "Step 17\n",
      "Step 18\n",
      "Step 19\n",
      "Step 20\n",
      "Step 21\n",
      "Step 22\n",
      "Step 23\n",
      "Step 24\n",
      "Step 25\n",
      "Step 26\n",
      "Step 27\n",
      "Step 28\n",
      "Step 29\n",
      "Step 30\n",
      "Step 31\n",
      "Step 32\n",
      "Step 33\n",
      "Step 34\n",
      "Step 35\n",
      "Step 36\n",
      "Step 37\n",
      "Step 38\n",
      "Step 39\n",
      "Step 40\n",
      "Step 41\n",
      "Step 42\n",
      "Step 43\n",
      "Step 44\n",
      "Step 45\n",
      "Step 46\n",
      "Step 47\n",
      "Step 48\n",
      "Step 49\n",
      "Step 50\n"
     ]
    }
   ],
   "source": [
    "means = []\n",
    "for i in range(50):\n",
    "    print('Step %d' % (i + 1))\n",
    "    X_train, X_test, y_train, y_test = train_test_split(X_norm, y, test_size=0.30)\n",
    "    model.fit(X_train, y_train, epochs=100, verbose=0)\n",
    "    y_pred = model.predict(X_test)\n",
    "    means.append(mean_squared_error(y_test, y_pred))"
   ]
  },
  {
   "cell_type": "markdown",
   "metadata": {},
   "source": [
    "#### Report the mean and the standard deviation of the mean squared errors."
   ]
  },
  {
   "cell_type": "code",
   "execution_count": 33,
   "metadata": {},
   "outputs": [
    {
     "name": "stdout",
     "output_type": "stream",
     "text": [
      "The mean of mean squared errors : 66.801579\n",
      "The standard deviation of mean squared errors : 35.966646\n"
     ]
    }
   ],
   "source": [
    "print('The mean of mean squared errors : %f' % np.mean(means))\n",
    "print('The standard deviation of mean squared errors : %f' % np.std(means))"
   ]
  },
  {
   "cell_type": "markdown",
   "metadata": {},
   "source": [
    "#### How does the mean of the mean squared errors compare to that from Step B?"
   ]
  },
  {
   "cell_type": "markdown",
   "metadata": {},
   "source": [
    "The mean of the mean squared errors from Step B is bigger than Step C. So after increates number of epochs, the model in Step C makes less errors than in Step B."
   ]
  },
  {
   "cell_type": "code",
   "execution_count": null,
   "metadata": {},
   "outputs": [],
   "source": []
  }
 ],
 "metadata": {
  "kernelspec": {
   "display_name": "Python 3",
   "language": "python",
   "name": "python3"
  },
  "language_info": {
   "codemirror_mode": {
    "name": "ipython",
    "version": 3
   },
   "file_extension": ".py",
   "mimetype": "text/x-python",
   "name": "python",
   "nbconvert_exporter": "python",
   "pygments_lexer": "ipython3",
   "version": "3.6.5"
  }
 },
 "nbformat": 4,
 "nbformat_minor": 4
}
