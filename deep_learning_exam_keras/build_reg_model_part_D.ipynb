{
 "cells": [
  {
   "cell_type": "markdown",
   "metadata": {},
   "source": [
    "# Build a Regression Model in Keras for Predicting Strength __- PART D -__"
   ]
  },
  {
   "cell_type": "markdown",
   "metadata": {},
   "source": [
    "#### Import libraries"
   ]
  },
  {
   "cell_type": "code",
   "execution_count": 18,
   "metadata": {},
   "outputs": [],
   "source": [
    "import pandas as pd\n",
    "import numpy as np"
   ]
  },
  {
   "cell_type": "markdown",
   "metadata": {},
   "source": [
    "#### Read data"
   ]
  },
  {
   "cell_type": "code",
   "execution_count": 19,
   "metadata": {},
   "outputs": [
    {
     "data": {
      "text/html": [
       "<div>\n",
       "<style scoped>\n",
       "    .dataframe tbody tr th:only-of-type {\n",
       "        vertical-align: middle;\n",
       "    }\n",
       "\n",
       "    .dataframe tbody tr th {\n",
       "        vertical-align: top;\n",
       "    }\n",
       "\n",
       "    .dataframe thead th {\n",
       "        text-align: right;\n",
       "    }\n",
       "</style>\n",
       "<table border=\"1\" class=\"dataframe\">\n",
       "  <thead>\n",
       "    <tr style=\"text-align: right;\">\n",
       "      <th></th>\n",
       "      <th>Cement</th>\n",
       "      <th>Blast Furnace Slag</th>\n",
       "      <th>Fly Ash</th>\n",
       "      <th>Water</th>\n",
       "      <th>Superplasticizer</th>\n",
       "      <th>Coarse Aggregate</th>\n",
       "      <th>Fine Aggregate</th>\n",
       "      <th>Age</th>\n",
       "      <th>Strength</th>\n",
       "    </tr>\n",
       "  </thead>\n",
       "  <tbody>\n",
       "    <tr>\n",
       "      <th>0</th>\n",
       "      <td>540.0</td>\n",
       "      <td>0.0</td>\n",
       "      <td>0.0</td>\n",
       "      <td>162.0</td>\n",
       "      <td>2.5</td>\n",
       "      <td>1040.0</td>\n",
       "      <td>676.0</td>\n",
       "      <td>28</td>\n",
       "      <td>79.99</td>\n",
       "    </tr>\n",
       "    <tr>\n",
       "      <th>1</th>\n",
       "      <td>540.0</td>\n",
       "      <td>0.0</td>\n",
       "      <td>0.0</td>\n",
       "      <td>162.0</td>\n",
       "      <td>2.5</td>\n",
       "      <td>1055.0</td>\n",
       "      <td>676.0</td>\n",
       "      <td>28</td>\n",
       "      <td>61.89</td>\n",
       "    </tr>\n",
       "    <tr>\n",
       "      <th>2</th>\n",
       "      <td>332.5</td>\n",
       "      <td>142.5</td>\n",
       "      <td>0.0</td>\n",
       "      <td>228.0</td>\n",
       "      <td>0.0</td>\n",
       "      <td>932.0</td>\n",
       "      <td>594.0</td>\n",
       "      <td>270</td>\n",
       "      <td>40.27</td>\n",
       "    </tr>\n",
       "    <tr>\n",
       "      <th>3</th>\n",
       "      <td>332.5</td>\n",
       "      <td>142.5</td>\n",
       "      <td>0.0</td>\n",
       "      <td>228.0</td>\n",
       "      <td>0.0</td>\n",
       "      <td>932.0</td>\n",
       "      <td>594.0</td>\n",
       "      <td>365</td>\n",
       "      <td>41.05</td>\n",
       "    </tr>\n",
       "    <tr>\n",
       "      <th>4</th>\n",
       "      <td>198.6</td>\n",
       "      <td>132.4</td>\n",
       "      <td>0.0</td>\n",
       "      <td>192.0</td>\n",
       "      <td>0.0</td>\n",
       "      <td>978.4</td>\n",
       "      <td>825.5</td>\n",
       "      <td>360</td>\n",
       "      <td>44.30</td>\n",
       "    </tr>\n",
       "  </tbody>\n",
       "</table>\n",
       "</div>"
      ],
      "text/plain": [
       "   Cement  Blast Furnace Slag  Fly Ash  Water  Superplasticizer  \\\n",
       "0   540.0                 0.0      0.0  162.0               2.5   \n",
       "1   540.0                 0.0      0.0  162.0               2.5   \n",
       "2   332.5               142.5      0.0  228.0               0.0   \n",
       "3   332.5               142.5      0.0  228.0               0.0   \n",
       "4   198.6               132.4      0.0  192.0               0.0   \n",
       "\n",
       "   Coarse Aggregate  Fine Aggregate  Age  Strength  \n",
       "0            1040.0           676.0   28     79.99  \n",
       "1            1055.0           676.0   28     61.89  \n",
       "2             932.0           594.0  270     40.27  \n",
       "3             932.0           594.0  365     41.05  \n",
       "4             978.4           825.5  360     44.30  "
      ]
     },
     "execution_count": 19,
     "metadata": {},
     "output_type": "execute_result"
    }
   ],
   "source": [
    "df = pd.read_csv('concrete_data.csv')\n",
    "df.head()"
   ]
  },
  {
   "cell_type": "code",
   "execution_count": 20,
   "metadata": {},
   "outputs": [
    {
     "data": {
      "text/plain": [
       "(1030, 9)"
      ]
     },
     "execution_count": 20,
     "metadata": {},
     "output_type": "execute_result"
    }
   ],
   "source": [
    "df.shape"
   ]
  },
  {
   "cell_type": "markdown",
   "metadata": {},
   "source": [
    "#### Check null values if exist"
   ]
  },
  {
   "cell_type": "code",
   "execution_count": 21,
   "metadata": {},
   "outputs": [
    {
     "data": {
      "text/plain": [
       "Cement                False\n",
       "Blast Furnace Slag    False\n",
       "Fly Ash               False\n",
       "Water                 False\n",
       "Superplasticizer      False\n",
       "Coarse Aggregate      False\n",
       "Fine Aggregate        False\n",
       "Age                   False\n",
       "Strength              False\n",
       "dtype: bool"
      ]
     },
     "execution_count": 21,
     "metadata": {},
     "output_type": "execute_result"
    }
   ],
   "source": [
    "df.isnull().any()"
   ]
  },
  {
   "cell_type": "markdown",
   "metadata": {},
   "source": [
    "#### Extract the input and target data"
   ]
  },
  {
   "cell_type": "code",
   "execution_count": 22,
   "metadata": {},
   "outputs": [],
   "source": [
    "X = df.drop(columns=['Strength'], axis=1).values\n",
    "y = df.Strength.values\n",
    "\n",
    "n_cols = X.shape[1]"
   ]
  },
  {
   "cell_type": "markdown",
   "metadata": {},
   "source": [
    "#### Normalize the data"
   ]
  },
  {
   "cell_type": "code",
   "execution_count": 23,
   "metadata": {},
   "outputs": [
    {
     "data": {
      "text/plain": [
       "array([[ 0.68491213, -0.84750875, -0.84750875, ...,  2.10382035,\n",
       "         1.07085517, -0.76804989],\n",
       "       [ 0.68491213, -0.84750875, -0.84750875, ...,  2.1463876 ,\n",
       "         1.07085517, -0.76804989],\n",
       "       [ 0.09606522, -0.44311991, -0.84750875, ...,  1.79733617,\n",
       "         0.83815422, -0.08129831],\n",
       "       ...,\n",
       "       [-0.42609301, -0.45191714, -0.53932188, ...,  1.68495864,\n",
       "         1.36598808, -0.76804989],\n",
       "       [-0.39601215, -0.31768842, -0.84750875, ...,  1.9607944 ,\n",
       "         1.39124464, -0.76804989],\n",
       "       [-0.10712244, -0.5623082 , -0.62530772, ...,  1.60578356,\n",
       "         1.31348847, -0.76804989]])"
      ]
     },
     "execution_count": 23,
     "metadata": {},
     "output_type": "execute_result"
    }
   ],
   "source": [
    "X_norm = (X - X.mean()) / X.std()\n",
    "X_norm"
   ]
  },
  {
   "cell_type": "markdown",
   "metadata": {},
   "source": [
    "#### split the data into train and test by holding 30% of data for testing"
   ]
  },
  {
   "cell_type": "code",
   "execution_count": 24,
   "metadata": {},
   "outputs": [],
   "source": [
    "from sklearn.model_selection import train_test_split"
   ]
  },
  {
   "cell_type": "code",
   "execution_count": 25,
   "metadata": {},
   "outputs": [],
   "source": [
    "X_train, X_test, y_train, y_test = train_test_split(X_norm, y, test_size=0.30)"
   ]
  },
  {
   "cell_type": "markdown",
   "metadata": {},
   "source": [
    "#### import libraries for creating model"
   ]
  },
  {
   "cell_type": "code",
   "execution_count": 26,
   "metadata": {},
   "outputs": [],
   "source": [
    "import keras\n",
    "from keras.models import Sequential\n",
    "from keras.layers import Dense"
   ]
  },
  {
   "cell_type": "markdown",
   "metadata": {},
   "source": [
    "### Create a neural network model\n",
    "###### Three hidden layers, each of 10 nodes and ReLU activation function\n",
    "###### Use the adam optimizer and the mean squared error as the loss function"
   ]
  },
  {
   "cell_type": "code",
   "execution_count": 27,
   "metadata": {},
   "outputs": [],
   "source": [
    "## define regression model\n",
    "\n",
    "# create model\n",
    "model = Sequential()\n",
    "model.add(Dense(10, activation='relu', input_shape=(n_cols,)))\n",
    "model.add(Dense(10, activation='relu'))\n",
    "model.add(Dense(10, activation='relu'))\n",
    "model.add(Dense(1))\n",
    "\n",
    "# compile model\n",
    "model.compile(optimizer='adam', loss='mean_squared_error')"
   ]
  },
  {
   "cell_type": "markdown",
   "metadata": {},
   "source": [
    "####  Train the model on the training data using 50 epochs"
   ]
  },
  {
   "cell_type": "code",
   "execution_count": 28,
   "metadata": {},
   "outputs": [
    {
     "name": "stdout",
     "output_type": "stream",
     "text": [
      "Epoch 1/50\n",
      "23/23 - 0s - loss: 1509.4286\n",
      "Epoch 2/50\n",
      "23/23 - 0s - loss: 1465.5109\n",
      "Epoch 3/50\n",
      "23/23 - 0s - loss: 1390.4244\n",
      "Epoch 4/50\n",
      "23/23 - 0s - loss: 1265.6251\n",
      "Epoch 5/50\n",
      "23/23 - 0s - loss: 1074.1910\n",
      "Epoch 6/50\n",
      "23/23 - 0s - loss: 807.7154\n",
      "Epoch 7/50\n",
      "23/23 - 0s - loss: 525.4946\n",
      "Epoch 8/50\n",
      "23/23 - 0s - loss: 346.8811\n",
      "Epoch 9/50\n",
      "23/23 - 0s - loss: 305.3018\n",
      "Epoch 10/50\n",
      "23/23 - 0s - loss: 300.5808\n",
      "Epoch 11/50\n",
      "23/23 - 0s - loss: 297.6159\n",
      "Epoch 12/50\n",
      "23/23 - 0s - loss: 295.5896\n",
      "Epoch 13/50\n",
      "23/23 - 0s - loss: 293.0128\n",
      "Epoch 14/50\n",
      "23/23 - 0s - loss: 291.5000\n",
      "Epoch 15/50\n",
      "23/23 - 0s - loss: 289.0738\n",
      "Epoch 16/50\n",
      "23/23 - 0s - loss: 286.8678\n",
      "Epoch 17/50\n",
      "23/23 - 0s - loss: 285.0705\n",
      "Epoch 18/50\n",
      "23/23 - 0s - loss: 282.8091\n",
      "Epoch 19/50\n",
      "23/23 - 0s - loss: 281.0154\n",
      "Epoch 20/50\n",
      "23/23 - 0s - loss: 279.3507\n",
      "Epoch 21/50\n",
      "23/23 - 0s - loss: 277.4119\n",
      "Epoch 22/50\n",
      "23/23 - 0s - loss: 275.2126\n",
      "Epoch 23/50\n",
      "23/23 - 0s - loss: 273.3626\n",
      "Epoch 24/50\n",
      "23/23 - 0s - loss: 272.0016\n",
      "Epoch 25/50\n",
      "23/23 - 0s - loss: 269.8886\n",
      "Epoch 26/50\n",
      "23/23 - 0s - loss: 268.3665\n",
      "Epoch 27/50\n",
      "23/23 - 0s - loss: 266.2863\n",
      "Epoch 28/50\n",
      "23/23 - 0s - loss: 264.3736\n",
      "Epoch 29/50\n",
      "23/23 - 0s - loss: 262.8081\n",
      "Epoch 30/50\n",
      "23/23 - 0s - loss: 260.9793\n",
      "Epoch 31/50\n",
      "23/23 - 0s - loss: 258.3362\n",
      "Epoch 32/50\n",
      "23/23 - 0s - loss: 256.7263\n",
      "Epoch 33/50\n",
      "23/23 - 0s - loss: 254.6612\n",
      "Epoch 34/50\n",
      "23/23 - 0s - loss: 252.7053\n",
      "Epoch 35/50\n",
      "23/23 - 0s - loss: 250.9556\n",
      "Epoch 36/50\n",
      "23/23 - 0s - loss: 249.2166\n",
      "Epoch 37/50\n",
      "23/23 - 0s - loss: 247.4998\n",
      "Epoch 38/50\n",
      "23/23 - 0s - loss: 244.9669\n",
      "Epoch 39/50\n",
      "23/23 - 0s - loss: 243.5215\n",
      "Epoch 40/50\n",
      "23/23 - 0s - loss: 240.4330\n",
      "Epoch 41/50\n",
      "23/23 - 0s - loss: 238.6496\n",
      "Epoch 42/50\n",
      "23/23 - 0s - loss: 236.9522\n",
      "Epoch 43/50\n",
      "23/23 - 0s - loss: 234.2720\n",
      "Epoch 44/50\n",
      "23/23 - 0s - loss: 232.4390\n",
      "Epoch 45/50\n",
      "23/23 - 0s - loss: 230.9956\n",
      "Epoch 46/50\n",
      "23/23 - 0s - loss: 228.4685\n",
      "Epoch 47/50\n",
      "23/23 - 0s - loss: 225.9320\n",
      "Epoch 48/50\n",
      "23/23 - 0s - loss: 223.7976\n",
      "Epoch 49/50\n",
      "23/23 - 0s - loss: 221.5972\n",
      "Epoch 50/50\n",
      "23/23 - 0s - loss: 219.7012\n"
     ]
    },
    {
     "data": {
      "text/plain": [
       "<tensorflow.python.keras.callbacks.History at 0x2326f1f0ef0>"
      ]
     },
     "execution_count": 28,
     "metadata": {},
     "output_type": "execute_result"
    }
   ],
   "source": [
    "model.fit(X_train, y_train, epochs=50, verbose=2)"
   ]
  },
  {
   "cell_type": "markdown",
   "metadata": {},
   "source": [
    "#### Evaluate the model on the test data "
   ]
  },
  {
   "cell_type": "code",
   "execution_count": 29,
   "metadata": {},
   "outputs": [],
   "source": [
    "from sklearn.metrics import mean_squared_error"
   ]
  },
  {
   "cell_type": "code",
   "execution_count": 30,
   "metadata": {},
   "outputs": [],
   "source": [
    "# predict test data\n",
    "y_pred = model.predict(X_test)"
   ]
  },
  {
   "cell_type": "code",
   "execution_count": 31,
   "metadata": {},
   "outputs": [
    {
     "data": {
      "text/plain": [
       "225.58796403203937"
      ]
     },
     "execution_count": 31,
     "metadata": {},
     "output_type": "execute_result"
    }
   ],
   "source": [
    "# mean squared error of the test data\n",
    "mean_squared_error(y_test, y_pred)"
   ]
  },
  {
   "cell_type": "markdown",
   "metadata": {},
   "source": [
    "#### create a list of 50 mean squared errors"
   ]
  },
  {
   "cell_type": "code",
   "execution_count": 32,
   "metadata": {},
   "outputs": [
    {
     "name": "stdout",
     "output_type": "stream",
     "text": [
      "Step 1\n",
      "Step 2\n",
      "Step 3\n",
      "Step 4\n",
      "Step 5\n",
      "Step 6\n",
      "Step 7\n",
      "Step 8\n",
      "Step 9\n",
      "Step 10\n",
      "Step 11\n",
      "Step 12\n",
      "Step 13\n",
      "Step 14\n",
      "Step 15\n",
      "Step 16\n",
      "Step 17\n",
      "Step 18\n",
      "Step 19\n",
      "Step 20\n",
      "Step 21\n",
      "Step 22\n",
      "Step 23\n",
      "Step 24\n",
      "Step 25\n",
      "Step 26\n",
      "Step 27\n",
      "Step 28\n",
      "Step 29\n",
      "Step 30\n",
      "Step 31\n",
      "Step 32\n",
      "Step 33\n",
      "Step 34\n",
      "Step 35\n",
      "Step 36\n",
      "Step 37\n",
      "Step 38\n",
      "Step 39\n",
      "Step 40\n",
      "Step 41\n",
      "Step 42\n",
      "Step 43\n",
      "Step 44\n",
      "Step 45\n",
      "Step 46\n",
      "Step 47\n",
      "Step 48\n",
      "Step 49\n",
      "Step 50\n"
     ]
    }
   ],
   "source": [
    "means = []\n",
    "for i in range(50):\n",
    "    print('Step %d' % (i + 1))\n",
    "    X_train, X_test, y_train, y_test = train_test_split(X_norm, y, test_size=0.30)\n",
    "    model.fit(X_train, y_train, epochs=50, verbose=0)\n",
    "    y_pred = model.predict(X_test)\n",
    "    means.append(mean_squared_error(y_test, y_pred))"
   ]
  },
  {
   "cell_type": "markdown",
   "metadata": {},
   "source": [
    "#### Report the mean and the standard deviation of the mean squared errors."
   ]
  },
  {
   "cell_type": "code",
   "execution_count": 33,
   "metadata": {},
   "outputs": [
    {
     "name": "stdout",
     "output_type": "stream",
     "text": [
      "The mean of mean squared errors : 55.747284\n",
      "The standard deviation of mean squared errors : 22.220232\n"
     ]
    }
   ],
   "source": [
    "print('The mean of mean squared errors : %f' % np.mean(means))\n",
    "print('The standard deviation of mean squared errors : %f' % np.std(means))"
   ]
  },
  {
   "cell_type": "markdown",
   "metadata": {},
   "source": [
    "#### How does the mean of the mean squared errors compare to that from Step B?"
   ]
  },
  {
   "cell_type": "markdown",
   "metadata": {},
   "source": [
    "The mean of the mean squared errors from Step B is bigger than Step D. So after creating more hidden layers, the model in Step D makes less errors than in Step B."
   ]
  },
  {
   "cell_type": "code",
   "execution_count": null,
   "metadata": {},
   "outputs": [],
   "source": []
  }
 ],
 "metadata": {
  "kernelspec": {
   "display_name": "Python 3",
   "language": "python",
   "name": "python3"
  },
  "language_info": {
   "codemirror_mode": {
    "name": "ipython",
    "version": 3
   },
   "file_extension": ".py",
   "mimetype": "text/x-python",
   "name": "python",
   "nbconvert_exporter": "python",
   "pygments_lexer": "ipython3",
   "version": "3.6.5"
  }
 },
 "nbformat": 4,
 "nbformat_minor": 4
}
