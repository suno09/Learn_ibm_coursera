{
 "cells": [
  {
   "cell_type": "code",
   "execution_count": 1,
   "metadata": {},
   "outputs": [],
   "source": [
    "# !wget https://s3-api.us-geo.objectstorage.softlayer.net/cf-courses-data/CognitiveClass/DL0321EN/data/images/concrete_crack_images_for_classification.zip -P ."
   ]
  },
  {
   "cell_type": "code",
   "execution_count": 2,
   "metadata": {},
   "outputs": [],
   "source": [
    "# !unzip -q  concrete_crack_images_for_classification.zip -d  ."
   ]
  },
  {
   "cell_type": "code",
   "execution_count": 3,
   "metadata": {},
   "outputs": [],
   "source": [
    "# !conda install pytorch=1.6.0 torchvision cudatoolkit=10.2 -c pytorch"
   ]
  },
  {
   "cell_type": "code",
   "execution_count": 4,
   "metadata": {},
   "outputs": [],
   "source": [
    "from PIL import Image\n",
    "import matplotlib.pyplot as plt\n",
    "import os\n",
    "import glob\n",
    "import torch\n",
    "from torch.utils.data import Dataset, DataLoader\n",
    "import torchvision.transforms as transforms\n",
    "import torchvision.models as models\n",
    "import torch.nn as nn\n",
    "from torch import optim \n",
    "import numpy as np"
   ]
  },
  {
   "cell_type": "code",
   "execution_count": 5,
   "metadata": {},
   "outputs": [],
   "source": [
    "class Dataset(Dataset):\n",
    "\n",
    "    # Constructor\n",
    "    def __init__(self,transform=None,train=True):\n",
    "        directory=\"data\"\n",
    "        positive=\"Positive\"\n",
    "        negative=\"Negative\"\n",
    "\n",
    "        positive_file_path=os.path.join(directory,positive)\n",
    "        negative_file_path=os.path.join(directory,negative)\n",
    "        positive_files=[os.path.join(positive_file_path,file) for file in  os.listdir(positive_file_path) if file.endswith(\".jpg\")]\n",
    "        positive_files.sort()\n",
    "        negative_files=[os.path.join(negative_file_path,file) for file in  os.listdir(negative_file_path) if file.endswith(\".jpg\")]\n",
    "        negative_files.sort()\n",
    "        number_of_samples=len(positive_files)+len(negative_files)\n",
    "        self.all_files=[None]*number_of_samples\n",
    "        self.all_files[::2]=positive_files\n",
    "        self.all_files[1::2]=negative_files \n",
    "        # The transform is goint to be used on image\n",
    "        self.transform = transform\n",
    "        #torch.LongTensor\n",
    "        self.Y=torch.zeros([number_of_samples]).type(torch.LongTensor)\n",
    "        self.Y[::2]=1\n",
    "        self.Y[1::2]=0\n",
    "        \n",
    "        if train:\n",
    "            self.all_files=self.all_files[:30000]\n",
    "            self.Y=self.Y[:30000]\n",
    "            self.len=len(self.all_files)\n",
    "        else:\n",
    "            self.all_files=self.all_files[30000:]\n",
    "            self.Y=self.Y[30000:]\n",
    "            self.len=len(self.all_files)    \n",
    "       \n",
    "    # Get the length\n",
    "    def __len__(self):\n",
    "        return self.len\n",
    "    \n",
    "    # Getter\n",
    "    def __getitem__(self, idx):\n",
    "        \n",
    "        \n",
    "        image=Image.open(self.all_files[idx])\n",
    "        y=self.Y[idx]\n",
    "          \n",
    "        \n",
    "        # If there is any transform method, apply it onto the image\n",
    "        if self.transform:\n",
    "            image = self.transform(image)\n",
    "\n",
    "        return image, y"
   ]
  },
  {
   "cell_type": "code",
   "execution_count": 6,
   "metadata": {},
   "outputs": [],
   "source": [
    "mean = [0.485, 0.456, 0.406]\n",
    "std = [0.229, 0.224, 0.225]\n",
    "# transforms.ToTensor()\n",
    "#transforms.Normalize(mean, std)\n",
    "#transforms.Compose([])\n",
    "\n",
    "transform =transforms.Compose([ transforms.ToTensor(), transforms.Normalize(mean, std)])\n"
   ]
  },
  {
   "cell_type": "code",
   "execution_count": 7,
   "metadata": {},
   "outputs": [],
   "source": [
    "dataset_train=Dataset(transform=transform,train=True)\n",
    "dataset_val=Dataset(transform=transform,train=False)"
   ]
  },
  {
   "cell_type": "code",
   "execution_count": 8,
   "metadata": {},
   "outputs": [
    {
     "data": {
      "text/plain": [
       "torch.Size([3, 227, 227])"
      ]
     },
     "execution_count": 8,
     "metadata": {},
     "output_type": "execute_result"
    }
   ],
   "source": [
    "dataset_train[0][0].shape"
   ]
  },
  {
   "cell_type": "code",
   "execution_count": 9,
   "metadata": {},
   "outputs": [
    {
     "data": {
      "text/plain": [
       "154587"
      ]
     },
     "execution_count": 9,
     "metadata": {},
     "output_type": "execute_result"
    }
   ],
   "source": [
    "size_of_image=3*227*227\n",
    "size_of_image"
   ]
  },
  {
   "cell_type": "code",
   "execution_count": 10,
   "metadata": {},
   "outputs": [
    {
     "data": {
      "text/plain": [
       "<torch._C.Generator at 0x1bff6105918>"
      ]
     },
     "execution_count": 10,
     "metadata": {},
     "output_type": "execute_result"
    }
   ],
   "source": [
    "torch.manual_seed(0)"
   ]
  },
  {
   "cell_type": "code",
   "execution_count": 11,
   "metadata": {},
   "outputs": [],
   "source": [
    "model = models.resnet18(pretrained=True)"
   ]
  },
  {
   "cell_type": "markdown",
   "metadata": {},
   "source": [
    "### Change last output layer of resnet18 to 2 outputs"
   ]
  },
  {
   "cell_type": "code",
   "execution_count": 12,
   "metadata": {},
   "outputs": [],
   "source": [
    "for param in model.parameters():\n",
    "    param.requires_grad = False\n",
    "    \n",
    "model.fc = nn.Linear(512, 2)"
   ]
  },
  {
   "cell_type": "code",
   "execution_count": 13,
   "metadata": {},
   "outputs": [
    {
     "data": {
      "text/plain": [
       "Linear(in_features=512, out_features=2, bias=True)"
      ]
     },
     "execution_count": 13,
     "metadata": {},
     "output_type": "execute_result"
    }
   ],
   "source": [
    "model.fc"
   ]
  },
  {
   "cell_type": "code",
   "execution_count": 14,
   "metadata": {},
   "outputs": [],
   "source": [
    "optimizer = torch.optim.SGD(model.parameters(), lr=0.1, momentum=0.1)"
   ]
  },
  {
   "cell_type": "code",
   "execution_count": 15,
   "metadata": {},
   "outputs": [],
   "source": [
    "criterion = nn.CrossEntropyLoss()"
   ]
  },
  {
   "cell_type": "code",
   "execution_count": 16,
   "metadata": {},
   "outputs": [],
   "source": [
    "dataloader_train = DataLoader(dataset_train, batch_size=1000)\n",
    "dataloader_val = DataLoader(dataset_val, batch_size=1000)"
   ]
  },
  {
   "cell_type": "code",
   "execution_count": 17,
   "metadata": {},
   "outputs": [],
   "source": [
    "n_train = 30000\n",
    "n_test = 10000\n",
    "n_epochs = 5\n",
    "loss_list = []\n",
    "accuracy_list = []"
   ]
  },
  {
   "cell_type": "code",
   "execution_count": 18,
   "metadata": {},
   "outputs": [
    {
     "name": "stdout",
     "output_type": "stream",
     "text": [
      "epoch 1\n",
      "epoch 1 train 1 / 30\n",
      "epoch 1 train 2 / 30\n",
      "epoch 1 train 3 / 30\n",
      "epoch 1 train 4 / 30\n",
      "epoch 1 train 5 / 30\n",
      "epoch 1 train 6 / 30\n",
      "epoch 1 train 7 / 30\n",
      "epoch 1 train 8 / 30\n",
      "epoch 1 train 9 / 30\n",
      "epoch 1 train 10 / 30\n",
      "epoch 1 train 11 / 30\n",
      "epoch 1 train 12 / 30\n",
      "epoch 1 train 13 / 30\n",
      "epoch 1 train 14 / 30\n",
      "epoch 1 train 15 / 30\n",
      "epoch 1 train 16 / 30\n",
      "epoch 1 train 17 / 30\n",
      "epoch 1 train 18 / 30\n",
      "epoch 1 train 19 / 30\n",
      "epoch 1 train 20 / 30\n",
      "epoch 1 train 21 / 30\n",
      "epoch 1 train 22 / 30\n",
      "epoch 1 train 23 / 30\n",
      "epoch 1 train 24 / 30\n",
      "epoch 1 train 25 / 30\n",
      "epoch 1 train 26 / 30\n",
      "epoch 1 train 27 / 30\n",
      "epoch 1 train 28 / 30\n",
      "epoch 1 train 29 / 30\n",
      "epoch 1 train 30 / 30\n",
      "epoch 1 val 1 / 10\n",
      "epoch 1 val 2 / 10\n",
      "epoch 1 val 3 / 10\n",
      "epoch 1 val 4 / 10\n",
      "epoch 1 val 5 / 10\n",
      "epoch 1 val 6 / 10\n",
      "epoch 1 val 7 / 10\n",
      "epoch 1 val 8 / 10\n",
      "epoch 1 val 9 / 10\n",
      "epoch 1 val 10 / 10\n",
      "\n",
      "epoch 2\n",
      "epoch 2 train 1 / 30\n",
      "epoch 2 train 2 / 30\n",
      "epoch 2 train 3 / 30\n",
      "epoch 2 train 4 / 30\n",
      "epoch 2 train 5 / 30\n",
      "epoch 2 train 6 / 30\n",
      "epoch 2 train 7 / 30\n",
      "epoch 2 train 8 / 30\n",
      "epoch 2 train 9 / 30\n",
      "epoch 2 train 10 / 30\n",
      "epoch 2 train 11 / 30\n",
      "epoch 2 train 12 / 30\n",
      "epoch 2 train 13 / 30\n",
      "epoch 2 train 14 / 30\n",
      "epoch 2 train 15 / 30\n",
      "epoch 2 train 16 / 30\n",
      "epoch 2 train 17 / 30\n",
      "epoch 2 train 18 / 30\n",
      "epoch 2 train 19 / 30\n",
      "epoch 2 train 20 / 30\n",
      "epoch 2 train 21 / 30\n",
      "epoch 2 train 22 / 30\n",
      "epoch 2 train 23 / 30\n",
      "epoch 2 train 24 / 30\n",
      "epoch 2 train 25 / 30\n",
      "epoch 2 train 26 / 30\n",
      "epoch 2 train 27 / 30\n",
      "epoch 2 train 28 / 30\n",
      "epoch 2 train 29 / 30\n",
      "epoch 2 train 30 / 30\n",
      "epoch 2 val 1 / 10\n",
      "epoch 2 val 2 / 10\n",
      "epoch 2 val 3 / 10\n",
      "epoch 2 val 4 / 10\n",
      "epoch 2 val 5 / 10\n",
      "epoch 2 val 6 / 10\n",
      "epoch 2 val 7 / 10\n",
      "epoch 2 val 8 / 10\n",
      "epoch 2 val 9 / 10\n",
      "epoch 2 val 10 / 10\n",
      "\n",
      "epoch 3\n",
      "epoch 3 train 1 / 30\n",
      "epoch 3 train 2 / 30\n",
      "epoch 3 train 3 / 30\n",
      "epoch 3 train 4 / 30\n",
      "epoch 3 train 5 / 30\n",
      "epoch 3 train 6 / 30\n",
      "epoch 3 train 7 / 30\n",
      "epoch 3 train 8 / 30\n",
      "epoch 3 train 9 / 30\n",
      "epoch 3 train 10 / 30\n",
      "epoch 3 train 11 / 30\n",
      "epoch 3 train 12 / 30\n",
      "epoch 3 train 13 / 30\n",
      "epoch 3 train 14 / 30\n",
      "epoch 3 train 15 / 30\n",
      "epoch 3 train 16 / 30\n",
      "epoch 3 train 17 / 30\n",
      "epoch 3 train 18 / 30\n",
      "epoch 3 train 19 / 30\n",
      "epoch 3 train 20 / 30\n",
      "epoch 3 train 21 / 30\n",
      "epoch 3 train 22 / 30\n",
      "epoch 3 train 23 / 30\n",
      "epoch 3 train 24 / 30\n",
      "epoch 3 train 25 / 30\n",
      "epoch 3 train 26 / 30\n",
      "epoch 3 train 27 / 30\n",
      "epoch 3 train 28 / 30\n",
      "epoch 3 train 29 / 30\n",
      "epoch 3 train 30 / 30\n",
      "epoch 3 val 1 / 10\n",
      "epoch 3 val 2 / 10\n",
      "epoch 3 val 3 / 10\n",
      "epoch 3 val 4 / 10\n",
      "epoch 3 val 5 / 10\n",
      "epoch 3 val 6 / 10\n",
      "epoch 3 val 7 / 10\n",
      "epoch 3 val 8 / 10\n",
      "epoch 3 val 9 / 10\n",
      "epoch 3 val 10 / 10\n",
      "\n",
      "epoch 4\n",
      "epoch 4 train 1 / 30\n",
      "epoch 4 train 2 / 30\n",
      "epoch 4 train 3 / 30\n",
      "epoch 4 train 4 / 30\n",
      "epoch 4 train 5 / 30\n",
      "epoch 4 train 6 / 30\n",
      "epoch 4 train 7 / 30\n",
      "epoch 4 train 8 / 30\n",
      "epoch 4 train 9 / 30\n",
      "epoch 4 train 10 / 30\n",
      "epoch 4 train 11 / 30\n",
      "epoch 4 train 12 / 30\n",
      "epoch 4 train 13 / 30\n",
      "epoch 4 train 14 / 30\n",
      "epoch 4 train 15 / 30\n",
      "epoch 4 train 16 / 30\n",
      "epoch 4 train 17 / 30\n",
      "epoch 4 train 18 / 30\n",
      "epoch 4 train 19 / 30\n",
      "epoch 4 train 20 / 30\n",
      "epoch 4 train 21 / 30\n",
      "epoch 4 train 22 / 30\n",
      "epoch 4 train 23 / 30\n",
      "epoch 4 train 24 / 30\n",
      "epoch 4 train 25 / 30\n",
      "epoch 4 train 26 / 30\n",
      "epoch 4 train 27 / 30\n",
      "epoch 4 train 28 / 30\n",
      "epoch 4 train 29 / 30\n",
      "epoch 4 train 30 / 30\n",
      "epoch 4 val 1 / 10\n",
      "epoch 4 val 2 / 10\n",
      "epoch 4 val 3 / 10\n",
      "epoch 4 val 4 / 10\n",
      "epoch 4 val 5 / 10\n",
      "epoch 4 val 6 / 10\n",
      "epoch 4 val 7 / 10\n",
      "epoch 4 val 8 / 10\n",
      "epoch 4 val 9 / 10\n",
      "epoch 4 val 10 / 10\n",
      "\n",
      "epoch 5\n",
      "epoch 5 train 1 / 30\n",
      "epoch 5 train 2 / 30\n",
      "epoch 5 train 3 / 30\n",
      "epoch 5 train 4 / 30\n",
      "epoch 5 train 5 / 30\n",
      "epoch 5 train 6 / 30\n",
      "epoch 5 train 7 / 30\n",
      "epoch 5 train 8 / 30\n",
      "epoch 5 train 9 / 30\n",
      "epoch 5 train 10 / 30\n",
      "epoch 5 train 11 / 30\n",
      "epoch 5 train 12 / 30\n",
      "epoch 5 train 13 / 30\n",
      "epoch 5 train 14 / 30\n",
      "epoch 5 train 15 / 30\n",
      "epoch 5 train 16 / 30\n",
      "epoch 5 train 17 / 30\n",
      "epoch 5 train 18 / 30\n",
      "epoch 5 train 19 / 30\n",
      "epoch 5 train 20 / 30\n",
      "epoch 5 train 21 / 30\n",
      "epoch 5 train 22 / 30\n",
      "epoch 5 train 23 / 30\n",
      "epoch 5 train 24 / 30\n",
      "epoch 5 train 25 / 30\n",
      "epoch 5 train 26 / 30\n",
      "epoch 5 train 27 / 30\n",
      "epoch 5 train 28 / 30\n",
      "epoch 5 train 29 / 30\n",
      "epoch 5 train 30 / 30\n",
      "epoch 5 val 1 / 10\n",
      "epoch 5 val 2 / 10\n",
      "epoch 5 val 3 / 10\n",
      "epoch 5 val 4 / 10\n",
      "epoch 5 val 5 / 10\n",
      "epoch 5 val 6 / 10\n",
      "epoch 5 val 7 / 10\n",
      "epoch 5 val 8 / 10\n",
      "epoch 5 val 9 / 10\n",
      "epoch 5 val 10 / 10\n",
      "\n"
     ]
    }
   ],
   "source": [
    "for epoch in range(n_epochs):\n",
    "    print('epoch', (epoch + 1))\n",
    "    loss_sublist = []\n",
    "    i = 1\n",
    "    model.train()\n",
    "    for x, y in dataloader_train:\n",
    "        print('epoch', (epoch+1), 'train', i, '/ 30')\n",
    "        i += 1\n",
    "        optimizer.zero_grad()\n",
    "        z = model(x)\n",
    "        loss = criterion(z, y)\n",
    "        loss_sublist.append(loss.data.item())\n",
    "        loss.backward()\n",
    "        optimizer.step()\n",
    "    loss_list.append(np.mean(loss_sublist))\n",
    "    \n",
    "    correct = 0\n",
    "    i = 1\n",
    "    model.eval()\n",
    "    for x_test, y_test in dataloader_val:\n",
    "        print('epoch', (epoch+1), 'val', i, '/ 10')\n",
    "        i += 1\n",
    "        z = model(x_test)\n",
    "        _, y_hat = torch.max(z.data, 1)\n",
    "        correct += (y_hat == y_test).sum().item()\n",
    "    accuracy = correct / n_test\n",
    "    accuracy_list.append(accuracy)\n",
    "    print()"
   ]
  },
  {
   "cell_type": "markdown",
   "metadata": {},
   "source": [
    "### Plot the loss function"
   ]
  },
  {
   "cell_type": "code",
   "execution_count": 28,
   "metadata": {},
   "outputs": [
    {
     "data": {
      "text/plain": [
       "[<matplotlib.lines.Line2D at 0x1bf8341b7f0>]"
      ]
     },
     "execution_count": 28,
     "metadata": {},
     "output_type": "execute_result"
    },
    {
     "data": {
      "image/png": "[encoded data removed]",
      "text/plain": [
       "<Figure size 432x288 with 1 Axes>"
      ]
     },
     "metadata": {
      "needs_background": "light"
     },
     "output_type": "display_data"
    }
   ],
   "source": [
    "plt.plot(np.array(loss_list), 'r')"
   ]
  },
  {
   "cell_type": "code",
   "execution_count": 27,
   "metadata": {},
   "outputs": [
    {
     "name": "stdout",
     "output_type": "stream",
     "text": [
      "The accuracy : 99.014000 %\n"
     ]
    }
   ],
   "source": [
    "print('The accuracy : %f %%' % (np.mean(accuracy_list) * 100.))"
   ]
  },
  {
   "cell_type": "code",
   "execution_count": 25,
   "metadata": {},
   "outputs": [],
   "source": [
    "torch.save({\n",
    "            'model_state_dict': model.state_dict(),\n",
    "            'optimizer_state_dict': optimizer.state_dict(),\n",
    "            'criterion': criterion,\n",
    "            }, 'model_resnet18.model')"
   ]
  },
  {
   "cell_type": "code",
   "execution_count": 22,
   "metadata": {},
   "outputs": [],
   "source": [
    "### Get the first four misclassified samples"
   ]
  },
  {
   "cell_type": "code",
   "execution_count": 32,
   "metadata": {
    "scrolled": true
   },
   "outputs": [
    {
     "name": "stdout",
     "output_type": "stream",
     "text": [
      "1\n",
      "tensor([False, False, False, False, False, False, False, False, False, False,\n",
      "        False, False, False, False, False, False, False, False, False, False,\n",
      "        False, False, False, False, False, False, False, False, False, False,\n",
      "        False, False, False, False, False, False, False, False, False, False,\n",
      "        False, False, False, False, False, False, False, False, False, False,\n",
      "        False, False, False, False, False, False, False, False, False, False,\n",
      "        False, False, False, False, False, False, False, False, False, False,\n",
      "        False, False, False, False, False, False, False, False, False, False,\n",
      "        False, False, False, False, False, False, False, False, False, False,\n",
      "        False, False, False, False,  True, False, False, False, False, False,\n",
      "        False, False, False, False, False, False, False, False, False, False,\n",
      "        False, False, False, False, False, False, False, False, False, False,\n",
      "        False, False, False, False, False, False, False, False, False, False,\n",
      "        False, False, False, False, False, False, False, False, False, False,\n",
      "        False, False, False, False, False, False, False, False, False, False,\n",
      "        False, False, False, False, False, False, False, False, False, False,\n",
      "        False, False, False, False, False, False, False, False, False, False,\n",
      "        False, False, False, False, False, False, False, False, False, False,\n",
      "        False, False, False, False, False, False, False, False, False, False,\n",
      "        False, False, False, False, False, False, False, False, False, False,\n",
      "        False, False, False, False, False, False, False, False, False, False,\n",
      "        False, False, False, False, False, False, False, False, False, False,\n",
      "        False, False, False, False, False, False, False, False, False, False,\n",
      "        False, False, False, False, False, False, False, False, False, False,\n",
      "        False, False, False, False, False, False, False, False, False, False,\n",
      "        False, False, False, False, False, False, False, False, False, False,\n",
      "        False, False, False, False, False, False, False, False, False, False,\n",
      "        False, False, False, False, False, False, False, False, False, False,\n",
      "        False, False, False, False, False, False, False, False, False, False,\n",
      "        False, False, False, False, False, False, False, False, False, False,\n",
      "        False, False, False, False, False, False, False, False, False, False,\n",
      "        False, False, False, False, False, False, False, False, False, False,\n",
      "        False, False, False, False, False, False, False, False, False, False,\n",
      "        False, False, False, False, False, False, False, False, False, False,\n",
      "        False, False, False, False, False, False, False, False, False, False,\n",
      "        False, False, False, False, False, False, False, False, False, False,\n",
      "        False, False, False, False, False, False, False, False, False, False,\n",
      "        False, False, False, False, False, False, False, False, False, False,\n",
      "        False, False, False, False, False, False, False, False, False, False,\n",
      "        False, False, False, False, False, False, False, False, False, False,\n",
      "        False, False, False, False, False, False, False, False, False, False,\n",
      "        False, False, False, False, False, False, False, False, False, False,\n",
      "        False, False, False, False, False, False, False, False, False, False,\n",
      "        False, False, False, False, False, False, False, False, False, False,\n",
      "        False, False, False, False, False, False, False, False, False, False,\n",
      "        False,  True, False, False, False, False, False, False, False, False,\n",
      "        False, False, False, False, False, False, False, False, False, False,\n",
      "        False, False, False, False, False, False, False, False, False, False,\n",
      "        False, False, False, False, False, False, False, False, False, False,\n",
      "        False, False, False, False, False, False, False, False, False, False,\n",
      "        False, False, False, False, False, False, False, False, False, False,\n",
      "        False, False, False, False, False, False, False, False, False, False,\n",
      "        False, False, False, False, False, False, False, False, False, False,\n",
      "        False, False, False, False, False, False, False, False, False, False,\n",
      "        False, False, False, False, False, False, False, False, False, False,\n",
      "        False, False, False, False, False, False, False, False, False, False,\n",
      "        False, False, False, False, False, False, False, False, False, False,\n",
      "        False, False, False, False, False, False, False, False, False, False,\n",
      "        False, False, False, False, False, False, False, False, False, False,\n",
      "        False, False, False, False, False, False, False, False, False, False,\n",
      "        False, False, False, False, False, False, False, False, False, False,\n",
      "        False, False, False, False, False, False, False, False, False, False,\n",
      "        False, False, False, False,  True, False, False, False, False, False,\n",
      "        False, False, False, False, False, False, False, False, False, False,\n",
      "        False, False, False, False, False, False, False, False, False, False,\n",
      "        False, False, False, False, False, False, False, False, False, False,\n",
      "        False, False, False, False, False, False, False, False, False, False,\n",
      "        False, False, False, False, False, False, False, False, False, False,\n",
      "        False, False, False, False, False, False, False, False, False, False,\n",
      "        False, False, False, False, False, False, False, False, False, False,\n",
      "        False, False, False, False, False, False, False, False, False, False,\n",
      "        False, False, False, False, False, False, False, False, False, False,\n",
      "        False, False, False, False, False, False, False, False, False, False,\n",
      "        False, False, False, False, False, False, False, False, False, False,\n",
      "        False, False, False, False, False, False, False, False, False, False,\n",
      "        False, False, False, False, False, False, False, False, False, False,\n",
      "        False, False, False, False, False, False, False, False, False, False,\n",
      "        False, False, False, False, False, False, False, False, False, False,\n",
      "        False, False, False, False, False, False, False, False, False, False,\n",
      "        False, False, False, False,  True, False, False, False, False, False,\n",
      "        False, False, False, False, False, False, False, False, False, False,\n",
      "        False, False, False, False, False, False, False, False, False, False,\n",
      "        False, False, False, False, False, False, False, False, False, False,\n",
      "        False, False, False, False, False, False, False, False, False, False,\n",
      "        False, False, False,  True, False, False, False, False, False, False,\n",
      "        False, False, False, False, False, False, False, False, False, False,\n",
      "        False, False, False,  True, False, False, False, False, False, False,\n",
      "        False, False, False, False, False, False, False, False, False, False,\n",
      "        False, False, False, False, False, False, False, False, False, False,\n",
      "        False, False, False, False, False, False, False, False, False, False,\n",
      "        False, False, False, False, False, False, False, False, False, False,\n",
      "        False, False, False, False, False, False, False, False, False, False,\n",
      "        False, False, False, False, False, False,  True, False, False, False,\n",
      "        False, False, False, False, False, False, False, False, False, False,\n",
      "        False, False, False, False, False, False, False, False, False, False,\n",
      "        False, False, False, False, False, False, False, False, False, False,\n",
      "        False, False, False, False, False, False, False, False, False, False,\n",
      "        False, False, False, False, False, False, False, False, False, False,\n",
      "        False, False, False, False, False, False, False, False, False, False,\n",
      "        False, False, False, False, False, False, False, False, False, False])\n"
     ]
    }
   ],
   "source": [
    "# https://stackoverflow.com/questions/57570043/filter-data-in-pytorch-tensor\n",
    "misclass = []\n",
    "model.eval()\n",
    "i = 1\n",
    "\n",
    "for x_test, y_test in dataloader_val:\n",
    "    print(i)\n",
    "    z = model(x_test)\n",
    "    _, y_hat = torch.max(z.data, 1)\n",
    "    print(y_hat != y_test)\n",
    "    if (y_hat == y_test).sum().item() == 0:\n",
    "        print(y_hat)\n",
    "        misclass.append((i, y_hat, y_test))\n",
    "    i += 1\n",
    "    if misclass.__len__() == 0:\n",
    "        break"
   ]
  },
  {
   "cell_type": "markdown",
   "metadata": {},
   "source": [
    "### Load Data"
   ]
  },
  {
   "cell_type": "code",
   "execution_count": null,
   "metadata": {},
   "outputs": [],
   "source": [
    "model = models.resnet18(pretrained=True)\n",
    "for param in model.parameters():\n",
    "    param.requires_grad = False\n",
    "model.fc = nn.Linear(512, 2)\n",
    "#\n",
    "optimizer = torch.optim.SGD(model.parameters(), lr=0.1, momentum=0.1)\n",
    "#\n",
    "criterion = nn.CrossEntropyLoss()\n",
    "#\n",
    "checkpoint = torch.load('model_resnet18.model')\n",
    "model.load_state_dict(checkpoint['model_state_dict'])\n",
    "optimizer.load_state_dict(checkpoint['optimizer_state_dict'])\n",
    "# epoch = checkpoint['epoch']\n",
    "loss = checkpoint['criterion']\n",
    "\n",
    "model.eval()"
   ]
  }
 ],
 "metadata": {
  "kernelspec": {
   "display_name": "Python 3",
   "language": "python",
   "name": "python3"
  },
  "language_info": {
   "codemirror_mode": {
    "name": "ipython",
    "version": 3
   },
   "file_extension": ".py",
   "mimetype": "text/x-python",
   "name": "python",
   "nbconvert_exporter": "python",
   "pygments_lexer": "ipython3",
   "version": "3.6.5"
  }
 },
 "nbformat": 4,
 "nbformat_minor": 1
}
