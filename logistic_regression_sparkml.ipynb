{
 "cells": [
  {
   "cell_type": "code",
   "execution_count": 1,
   "metadata": {},
   "outputs": [],
   "source": [
    "from pyspark.context import SparkContext\n",
    "from pyspark.sql.session import SparkSession\n",
    "\n",
    "sc = SparkContext('local')\n",
    "spark = SparkSession(sc)"
   ]
  },
  {
   "cell_type": "code",
   "execution_count": 2,
   "metadata": {},
   "outputs": [],
   "source": [
    "from pyspark.sql.types import StructType, StructField, IntegerType\n",
    "\n",
    "schema = StructType([\n",
    "    StructField('x', IntegerType(), True),\n",
    "    StructField('y', IntegerType(), True),\n",
    "    StructField('z', IntegerType(), True),\n",
    "])"
   ]
  },
  {
   "cell_type": "code",
   "execution_count": 3,
   "metadata": {},
   "outputs": [],
   "source": [
    "import os"
   ]
  },
  {
   "cell_type": "code",
   "execution_count": 4,
   "metadata": {},
   "outputs": [],
   "source": [
    "file_list_filtered = [s for s in os.listdir('HMP_Dataset') if '_' in s]"
   ]
  },
  {
   "cell_type": "code",
   "execution_count": 5,
   "metadata": {},
   "outputs": [
    {
     "data": {
      "text/plain": [
       "['Brush_teeth',\n",
       " 'Climb_stairs',\n",
       " 'Comb_hair',\n",
       " 'Descend_stairs',\n",
       " 'Drink_glass',\n",
       " 'Eat_meat',\n",
       " 'Eat_soup',\n",
       " 'Getup_bed',\n",
       " 'Liedown_bed',\n",
       " 'Pour_water',\n",
       " 'Sitdown_chair',\n",
       " 'Standup_chair',\n",
       " 'Use_telephone']"
      ]
     },
     "execution_count": 5,
     "metadata": {},
     "output_type": "execute_result"
    }
   ],
   "source": [
    "file_list_filtered"
   ]
  },
  {
   "cell_type": "code",
   "execution_count": 16,
   "metadata": {},
   "outputs": [
    {
     "name": "stdout",
     "output_type": "stream",
     "text": [
      "Accelerometer-2011-04-11-13-28-18-brush_teeth-f1.txt\n",
      "Accelerometer-2011-04-11-13-29-54-brush_teeth-f1.txt\n",
      "Accelerometer-2011-05-30-08-35-11-brush_teeth-f1.txt\n",
      "Accelerometer-2011-05-30-09-36-50-brush_teeth-f1.txt\n",
      "Accelerometer-2011-05-30-10-34-16-brush_teeth-m1.txt\n",
      "Accelerometer-2011-05-30-21-10-57-brush_teeth-f1.txt\n",
      "Accelerometer-2011-05-30-21-55-04-brush_teeth-m2.txt\n",
      "Accelerometer-2011-05-31-15-16-47-brush_teeth-f1.txt\n",
      "Accelerometer-2011-06-02-10-42-22-brush_teeth-f1.txt\n",
      "Accelerometer-2011-06-02-10-45-50-brush_teeth-f1.txt\n",
      "Accelerometer-2011-06-06-10-45-27-brush_teeth-f1.txt\n",
      "Accelerometer-2011-06-06-10-48-05-brush_teeth-f1.txt\n",
      "Accelerometer-2011-03-24-10-24-39-climb_stairs-f1.txt\n",
      "Accelerometer-2011-03-24-10-25-44-climb_stairs-f1.txt\n",
      "Accelerometer-2011-03-29-09-55-46-climb_stairs-f1.txt\n",
      "Accelerometer-2011-04-05-18-21-22-climb_stairs-f1.txt\n",
      "Accelerometer-2011-04-05-18-32-29-climb_stairs-f1.txt\n",
      "Accelerometer-2011-04-11-11-44-35-climb_stairs-f1.txt\n",
      "Accelerometer-2011-04-11-11-57-50-climb_stairs-f1.txt\n",
      "Accelerometer-2011-04-11-11-58-30-climb_stairs-f1.txt\n",
      "Accelerometer-2011-05-30-08-21-38-climb_stairs-f1.txt\n",
      "Accelerometer-2011-05-30-08-30-37-climb_stairs-f1.txt\n",
      "Accelerometer-2011-05-30-08-39-09-climb_stairs-f1.txt\n",
      "Accelerometer-2011-05-30-09-29-58-climb_stairs-f1.txt\n",
      "Accelerometer-2011-05-30-09-38-52-climb_stairs-f1.txt\n",
      "Accelerometer-2011-05-30-09-43-37-climb_stairs-f1.txt\n",
      "Accelerometer-2011-05-30-10-20-47-climb_stairs-m1.txt\n",
      "Accelerometer-2011-05-30-10-32-53-climb_stairs-m1.txt\n",
      "Accelerometer-2011-05-30-10-41-10-climb_stairs-m1.txt\n",
      "Accelerometer-2011-05-30-20-54-39-climb_stairs-f1.txt\n",
      "Accelerometer-2011-05-30-21-02-43-climb_stairs-f1.txt\n",
      "Accelerometer-2011-05-30-21-14-55-climb_stairs-f1.txt\n",
      "Accelerometer-2011-05-30-21-36-58-climb_stairs-m2.txt\n",
      "Accelerometer-2011-05-30-21-46-05-climb_stairs-m2.txt\n",
      "Accelerometer-2011-05-30-22-00-32-climb_stairs-m2.txt\n",
      "Accelerometer-2011-05-31-14-58-41-climb_stairs-f1.txt\n",
      "Accelerometer-2011-05-31-15-06-32-climb_stairs-f1.txt\n",
      "Accelerometer-2011-05-31-15-20-50-climb_stairs-f1.txt\n",
      "Accelerometer-2011-05-31-16-26-09-climb_stairs-f1.txt\n",
      "Accelerometer-2011-05-31-16-32-44-climb_stairs-f1.txt\n",
      "Accelerometer-2011-06-02-10-37-15-climb_stairs-f1.txt\n",
      "Accelerometer-2011-06-02-10-37-44-climb_stairs-f1.txt\n",
      "Accelerometer-2011-06-02-10-39-21-climb_stairs-f1.txt\n",
      "Accelerometer-2011-06-02-10-40-10-climb_stairs-f1.txt\n",
      "Accelerometer-2011-06-06-10-57-19-climb_stairs-f1.txt\n",
      "Accelerometer-2011-06-06-10-57-43-climb_stairs-f1.txt\n",
      "Accelerometer-2011-06-06-10-59-08-climb_stairs-f1.txt\n",
      "Accelerometer-2011-06-06-10-59-58-climb_stairs-f1.txt\n",
      "Accelerometer-2011-06-06-11-00-50-climb_stairs-f1.txt\n",
      "Accelerometer-2011-06-06-11-01-27-climb_stairs-f1.txt\n",
      "Accelerometer-2011-06-06-11-02-24-climb_stairs-f1.txt\n",
      "Accelerometer-2012-05-28-17-56-03-climb_stairs-m1.txt\n",
      "Accelerometer-2012-05-28-17-56-40-climb_stairs-m1.txt\n",
      "Accelerometer-2012-05-29-16-53-12-climb_stairs-f2.txt\n",
      "Accelerometer-2012-05-29-16-54-38-climb_stairs-f2.txt\n",
      "Accelerometer-2012-05-29-17-17-05-climb_stairs-m3.txt\n",
      "Accelerometer-2012-05-29-17-17-51-climb_stairs-m3.txt\n",
      "Accelerometer-2012-05-30-18-31-08-climb_stairs-f3.txt\n",
      "Accelerometer-2012-05-30-18-31-52-climb_stairs-f3.txt\n",
      "Accelerometer-2012-05-30-18-32-56-climb_stairs-f3.txt\n",
      "Accelerometer-2012-05-30-18-33-57-climb_stairs-f3.txt\n",
      "Accelerometer-2012-05-30-19-12-19-climb_stairs-m4.txt\n",
      "Accelerometer-2012-05-30-19-12-57-climb_stairs-m4.txt\n",
      "Accelerometer-2012-05-30-19-13-50-climb_stairs-m4.txt\n",
      "Accelerometer-2012-05-30-19-14-51-climb_stairs-m4.txt\n",
      "Accelerometer-2012-05-30-22-06-17-climb_stairs-m2.txt\n",
      "Accelerometer-2012-05-30-22-06-47-climb_stairs-m2.txt\n",
      "Accelerometer-2012-05-30-22-07-15-climb_stairs-m2.txt\n",
      "Accelerometer-2012-05-30-22-07-44-climb_stairs-m2.txt\n",
      "Accelerometer-2012-05-30-22-08-15-climb_stairs-m2.txt\n",
      "Accelerometer-2012-06-06-08-53-29-climb_stairs-m5.txt\n",
      "Accelerometer-2012-06-06-08-53-47-climb_stairs-m5.txt\n",
      "Accelerometer-2012-06-06-08-54-08-climb_stairs-m5.txt\n",
      "Accelerometer-2012-06-06-08-54-29-climb_stairs-m5.txt\n",
      "Accelerometer-2012-06-06-08-59-53-climb_stairs-m5.txt\n",
      "Accelerometer-2012-06-06-09-00-24-climb_stairs-m5.txt\n",
      "Accelerometer-2012-06-06-09-00-51-climb_stairs-m5.txt\n",
      "Accelerometer-2012-06-06-09-01-08-climb_stairs-m5.txt\n",
      "Accelerometer-2012-06-06-09-05-28-climb_stairs-m5.txt\n",
      "Accelerometer-2012-06-06-09-06-03-climb_stairs-m5.txt\n",
      "Accelerometer-2012-06-06-09-06-28-climb_stairs-m5.txt\n",
      "Accelerometer-2012-06-06-09-06-49-climb_stairs-m5.txt\n",
      "Accelerometer-2012-06-06-09-32-04-climb_stairs-m6.txt\n",
      "Accelerometer-2012-06-06-09-32-36-climb_stairs-m6.txt\n",
      "Accelerometer-2012-06-06-09-32-58-climb_stairs-m6.txt\n",
      "Accelerometer-2012-06-06-09-33-15-climb_stairs-m6.txt\n",
      "Accelerometer-2012-06-06-09-37-23-climb_stairs-m6.txt\n",
      "Accelerometer-2012-06-06-09-37-58-climb_stairs-m6.txt\n",
      "Accelerometer-2012-06-06-09-38-17-climb_stairs-m6.txt\n",
      "Accelerometer-2012-06-06-09-38-43-climb_stairs-m6.txt\n",
      "Accelerometer-2012-06-06-09-42-55-climb_stairs-m6.txt\n",
      "Accelerometer-2012-06-06-09-43-14-climb_stairs-m6.txt\n",
      "Accelerometer-2012-06-06-09-43-47-climb_stairs-m6.txt\n",
      "Accelerometer-2012-06-06-09-44-02-climb_stairs-m6.txt\n",
      "Accelerometer-2012-06-06-14-04-18-climb_stairs-m7.txt\n",
      "Accelerometer-2012-06-06-14-04-51-climb_stairs-m7.txt\n",
      "Accelerometer-2012-06-06-14-05-05-climb_stairs-m7.txt\n",
      "Accelerometer-2012-06-06-14-05-18-climb_stairs-m7.txt\n",
      "Accelerometer-2012-06-06-14-08-44-climb_stairs-m7.txt\n",
      "Accelerometer-2012-06-06-14-08-57-climb_stairs-m7.txt\n",
      "Accelerometer-2012-06-06-14-09-12-climb_stairs-m7.txt\n",
      "Accelerometer-2012-06-06-14-09-24-climb_stairs-m7.txt\n",
      "Accelerometer-2012-06-06-14-12-35-climb_stairs-m7.txt\n",
      "Accelerometer-2012-06-06-14-12-49-climb_stairs-m7.txt\n",
      "Accelerometer-2012-06-06-14-13-05-climb_stairs-m7.txt\n",
      "Accelerometer-2012-06-06-14-13-20-climb_stairs-m7.txt\n",
      "Accelerometer-2012-06-07-10-48-08-climb_stairs-f1.txt\n",
      "Accelerometer-2012-06-07-10-48-24-climb_stairs-f1.txt\n",
      "Accelerometer-2012-06-07-10-49-17-climb_stairs-f1.txt\n",
      "Accelerometer-2012-06-07-10-49-35-climb_stairs-f1.txt\n",
      "Accelerometer-2012-06-07-10-53-34-climb_stairs-f1.txt\n",
      "Accelerometer-2012-06-07-10-53-53-climb_stairs-f1.txt\n",
      "Accelerometer-2012-06-07-10-54-12-climb_stairs-f1.txt\n",
      "Accelerometer-2012-06-07-10-54-29-climb_stairs-f1.txt\n",
      "Accelerometer-2011-03-24-09-44-34-comb_hair-f1.txt\n",
      "Accelerometer-2011-03-24-10-26-33-comb_hair-f1.txt\n",
      "Accelerometer-2011-03-24-10-57-40-comb_hair-f1.txt\n",
      "Accelerometer-2011-03-24-16-10-36-comb_hair-f2.txt\n",
      "Accelerometer-2011-03-29-08-57-24-comb_hair-f1.txt\n",
      "Accelerometer-2011-04-11-13-31-24-comb_hair-f1.txt\n",
      "Accelerometer-2011-05-30-08-32-58-comb_hair-f1.txt\n",
      "Accelerometer-2011-05-30-09-39-49-comb_hair-f1.txt\n",
      "Accelerometer-2011-05-30-10-36-26-comb_hair-m1.txt\n",
      "Accelerometer-2011-05-30-21-08-40-comb_hair-f1.txt\n",
      "Accelerometer-2011-05-30-21-57-03-comb_hair-m2.txt\n",
      "Accelerometer-2011-05-31-15-14-55-comb_hair-f1.txt\n",
      "Accelerometer-2011-06-02-10-41-33-comb_hair-f1.txt\n",
      "Accelerometer-2011-06-02-10-44-17-comb_hair-f1.txt\n",
      "Accelerometer-2011-06-02-16-12-44-comb_hair-f1.txt\n",
      "Accelerometer-2011-06-02-16-14-07-comb_hair-f1.txt\n",
      "Accelerometer-2011-06-02-16-18-54-comb_hair-f1.txt\n",
      "Accelerometer-2011-06-02-16-20-04-comb_hair-f1.txt\n",
      "Accelerometer-2011-06-02-16-48-41-comb_hair-f4.txt\n",
      "Accelerometer-2011-06-02-16-49-27-comb_hair-f4.txt\n",
      "Accelerometer-2011-06-02-16-56-03-comb_hair-f4.txt\n",
      "Accelerometer-2011-06-02-17-02-50-comb_hair-f4.txt\n",
      "Accelerometer-2011-06-02-17-03-33-comb_hair-f4.txt\n",
      "Accelerometer-2011-06-02-17-18-58-comb_hair-m1.txt\n",
      "Accelerometer-2011-06-02-17-32-57-comb_hair-m1.txt\n",
      "Accelerometer-2011-06-02-17-39-02-comb_hair-m1.txt\n",
      "Accelerometer-2011-06-02-17-39-54-comb_hair-m1.txt\n",
      "Accelerometer-2011-06-06-10-03-47-comb_hair-f1.txt\n",
      "Accelerometer-2011-06-06-10-05-40-comb_hair-f1.txt\n",
      "Accelerometer-2011-06-06-10-08-56-comb_hair-f1.txt\n",
      "Accelerometer-2011-06-06-10-10-30-comb_hair-f1.txt\n"
     ]
    }
   ],
   "source": [
    "df = None\n",
    "\n",
    "from pyspark.sql.functions import lit\n",
    "\n",
    "for category in file_list_filtered[:3]:\n",
    "    data_files = os.listdir('HMP_Dataset/' + category)\n",
    "    for data_file in data_files:\n",
    "        print(data_file)\n",
    "        temp_df = spark \\\n",
    "        .read \\\n",
    "        .option('header', 'false') \\\n",
    "        .option('delimiter', ' ') \\\n",
    "        .csv('HMP_Dataset/' + category + '/' + data_file, schema=schema)\n",
    "        \n",
    "        temp_df = temp_df.withColumn('class', lit(category)) # create column class contains category\n",
    "        \n",
    "        temp_df = temp_df.withColumn('source', lit(data_file)) # create column class contains source\n",
    "        \n",
    "        if df is None:\n",
    "            df = temp_df\n",
    "        else:\n",
    "            df = df.union(temp_df)"
   ]
  },
  {
   "cell_type": "code",
   "execution_count": 17,
   "metadata": {},
   "outputs": [
    {
     "name": "stdout",
     "output_type": "stream",
     "text": [
      "+---+---+---+-----------+--------------------+\n",
      "|  x|  y|  z|      class|              source|\n",
      "+---+---+---+-----------+--------------------+\n",
      "| 22| 49| 35|Brush_teeth|Accelerometer-201...|\n",
      "| 22| 49| 35|Brush_teeth|Accelerometer-201...|\n",
      "| 22| 52| 35|Brush_teeth|Accelerometer-201...|\n",
      "| 22| 52| 35|Brush_teeth|Accelerometer-201...|\n",
      "| 21| 52| 34|Brush_teeth|Accelerometer-201...|\n",
      "| 22| 51| 34|Brush_teeth|Accelerometer-201...|\n",
      "| 20| 50| 35|Brush_teeth|Accelerometer-201...|\n",
      "| 22| 52| 34|Brush_teeth|Accelerometer-201...|\n",
      "| 22| 50| 34|Brush_teeth|Accelerometer-201...|\n",
      "| 22| 51| 35|Brush_teeth|Accelerometer-201...|\n",
      "| 21| 51| 33|Brush_teeth|Accelerometer-201...|\n",
      "| 20| 50| 34|Brush_teeth|Accelerometer-201...|\n",
      "| 21| 49| 33|Brush_teeth|Accelerometer-201...|\n",
      "| 21| 49| 33|Brush_teeth|Accelerometer-201...|\n",
      "| 20| 51| 35|Brush_teeth|Accelerometer-201...|\n",
      "| 18| 49| 34|Brush_teeth|Accelerometer-201...|\n",
      "| 19| 48| 34|Brush_teeth|Accelerometer-201...|\n",
      "| 16| 53| 34|Brush_teeth|Accelerometer-201...|\n",
      "| 18| 52| 35|Brush_teeth|Accelerometer-201...|\n",
      "| 18| 51| 32|Brush_teeth|Accelerometer-201...|\n",
      "+---+---+---+-----------+--------------------+\n",
      "only showing top 20 rows\n",
      "\n"
     ]
    }
   ],
   "source": [
    "df.show()"
   ]
  },
  {
   "cell_type": "code",
   "execution_count": 18,
   "metadata": {},
   "outputs": [],
   "source": [
    "splits = df.randomSplit([0.8, 0.2])\n",
    "df_train = splits[0]\n",
    "df_test = splits[1]"
   ]
  },
  {
   "cell_type": "code",
   "execution_count": 19,
   "metadata": {},
   "outputs": [],
   "source": [
    "from pyspark.ml.feature import VectorAssembler, StringIndexer, OneHotEncoder\n",
    "from pyspark.ml.linalg import Vectors\n",
    "from pyspark.ml.feature import Normalizer\n",
    "\n",
    "\n",
    "indexer = StringIndexer(inputCol='class', outputCol='label')\n",
    "\n",
    "vectorAssembler = VectorAssembler(inputCols=['x', 'y', 'z'],\n",
    "                                 outputCol='features')\n",
    "\n",
    "normalizer = Normalizer(inputCol='features', outputCol='features_norm', p=1.0)"
   ]
  },
  {
   "cell_type": "code",
   "execution_count": 20,
   "metadata": {},
   "outputs": [],
   "source": [
    "from pyspark.ml.classification import LogisticRegression"
   ]
  },
  {
   "cell_type": "code",
   "execution_count": 21,
   "metadata": {},
   "outputs": [],
   "source": [
    "lr = LogisticRegression(maxIter=10, regParam=0.3, elasticNetParam=0.8)"
   ]
  },
  {
   "cell_type": "code",
   "execution_count": 22,
   "metadata": {},
   "outputs": [],
   "source": [
    "from pyspark.ml import Pipeline"
   ]
  },
  {
   "cell_type": "code",
   "execution_count": 23,
   "metadata": {},
   "outputs": [],
   "source": [
    "pipeline = Pipeline(stages=[indexer, vectorAssembler, normalizer, lr])"
   ]
  },
  {
   "cell_type": "code",
   "execution_count": 26,
   "metadata": {},
   "outputs": [],
   "source": [
    "model = pipeline.fit(df_train)"
   ]
  },
  {
   "cell_type": "code",
   "execution_count": 27,
   "metadata": {},
   "outputs": [],
   "source": [
    "prediction = model.transform(df_train)"
   ]
  },
  {
   "cell_type": "code",
   "execution_count": 28,
   "metadata": {},
   "outputs": [],
   "source": [
    "from pyspark.ml.evaluation import MulticlassClassificationEvaluator"
   ]
  },
  {
   "cell_type": "code",
   "execution_count": 29,
   "metadata": {},
   "outputs": [],
   "source": [
    "ev = MulticlassClassificationEvaluator().setMetricName('accuracy').setLabelCol('label').setPredictionCol('prediction')"
   ]
  },
  {
   "cell_type": "code",
   "execution_count": 30,
   "metadata": {},
   "outputs": [
    {
     "data": {
      "text/plain": [
       "0.4563007045260461"
      ]
     },
     "execution_count": 30,
     "metadata": {},
     "output_type": "execute_result"
    }
   ],
   "source": [
    "ev.evaluate(prediction)"
   ]
  },
  {
   "cell_type": "code",
   "execution_count": 31,
   "metadata": {},
   "outputs": [],
   "source": [
    "model = pipeline.fit(df_test)"
   ]
  },
  {
   "cell_type": "code",
   "execution_count": 32,
   "metadata": {},
   "outputs": [],
   "source": [
    "prediction = model.transform(df_test)"
   ]
  },
  {
   "cell_type": "code",
   "execution_count": 34,
   "metadata": {},
   "outputs": [
    {
     "data": {
      "text/plain": [
       "0.4466670241861962"
      ]
     },
     "execution_count": 34,
     "metadata": {},
     "output_type": "execute_result"
    }
   ],
   "source": [
    "ev.evaluate(prediction)"
   ]
  },
  {
   "cell_type": "code",
   "execution_count": null,
   "metadata": {},
   "outputs": [],
   "source": []
  }
 ],
 "metadata": {
  "kernelspec": {
   "display_name": "Python 3",
   "language": "python",
   "name": "python3"
  },
  "language_info": {
   "codemirror_mode": {
    "name": "ipython",
    "version": 3
   },
   "file_extension": ".py",
   "mimetype": "text/x-python",
   "name": "python",
   "nbconvert_exporter": "python",
   "pygments_lexer": "ipython3",
   "version": "3.6.5"
  }
 },
 "nbformat": 4,
 "nbformat_minor": 4
}
